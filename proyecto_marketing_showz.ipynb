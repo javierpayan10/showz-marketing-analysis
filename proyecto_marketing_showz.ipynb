{
 "cells": [
  {
   "cell_type": "markdown",
   "metadata": {},
   "source": [
    "# Análisis de Clientes y Marketing en Showz"
   ]
  },
  {
   "cell_type": "markdown",
   "metadata": {},
   "source": [
    "# Descripción del proyecto"
   ]
  },
  {
   "cell_type": "markdown",
   "metadata": {},
   "source": [
    "Lo has hecho de maravilla en el curso de TripleTen y te han ofrecido hacer prácticas en el departamento de analítica de Showz, una empresa de venta de entradas de eventos. Tu primera tarea es ayudar a optimizar los gastos de marketing. \n",
    "\n",
    "Cuentas con:\n",
    "\n",
    "- registros del servidor con datos sobre las visitas a Showz desde enero de 2017 hasta diciembre de 2018;\n",
    "- un archivo con los pedidos en este periodo;\n",
    "- estadísticas de gastos de marketing.\n",
    "\n",
    "Lo que vas a investigar: \n",
    "\n",
    "- cómo los clientes usan el servicio;\n",
    "- cuándo empiezan a comprar;\n",
    "- cuánto dinero aporta cada cliente a la compañía;\n",
    "- cuándo los ingresos cubren el costo de adquisición de los clientes."
   ]
  },
  {
   "cell_type": "markdown",
   "metadata": {},
   "source": [
    "##  Inicialización"
   ]
  },
  {
   "cell_type": "code",
   "execution_count": 9,
   "metadata": {},
   "outputs": [],
   "source": [
    "# Cargamos librerias.\n",
    "import pandas as pd\n",
    "from matplotlib import pyplot as plt\n",
    "import seaborn as sns \n",
    "from scipy import stats as st\n",
    "import numpy as np"
   ]
  },
  {
   "cell_type": "markdown",
   "metadata": {},
   "source": [
    "##  Cargar datos"
   ]
  },
  {
   "cell_type": "code",
   "execution_count": 10,
   "metadata": {},
   "outputs": [],
   "source": [
    "# Cargamos los archivos de datos.\n",
    "gastos = pd.read_csv('data/data/costs_us.csv')\n",
    "pedidos = pd.read_csv('data/data/orders_log_us.csv')\n",
    "visitas = pd.read_csv('data/data/visits_log_us.csv')\n"
   ]
  },
  {
   "cell_type": "markdown",
   "metadata": {},
   "source": [
    "##  Preparar los datos"
   ]
  },
  {
   "cell_type": "code",
   "execution_count": 11,
   "metadata": {},
   "outputs": [
    {
     "name": "stdout",
     "output_type": "stream",
     "text": [
      "   source_id          dt  costs\n",
      "0          1  2017-06-01  75.20\n",
      "1          1  2017-06-02  62.25\n",
      "2          1  2017-06-03  36.53\n",
      "3          1  2017-06-04  55.00\n",
      "4          1  2017-06-05  57.08\n",
      "\n",
      "<class 'pandas.core.frame.DataFrame'>\n",
      "RangeIndex: 2542 entries, 0 to 2541\n",
      "Data columns (total 3 columns):\n",
      " #   Column     Non-Null Count  Dtype  \n",
      "---  ------     --------------  -----  \n",
      " 0   source_id  2542 non-null   int64  \n",
      " 1   dt         2542 non-null   object \n",
      " 2   costs      2542 non-null   float64\n",
      "dtypes: float64(1), int64(1), object(1)\n",
      "memory usage: 59.7+ KB\n",
      "None\n",
      "\n",
      "Numero de filas duplicadas: 0\n"
     ]
    }
   ],
   "source": [
    "# Vista previa de los datos.\n",
    "print(gastos.head())\n",
    "print()\n",
    "print(gastos.info())\n",
    "print()\n",
    "print('Numero de filas duplicadas:',gastos.duplicated().sum())"
   ]
  },
  {
   "cell_type": "code",
   "execution_count": 12,
   "metadata": {},
   "outputs": [],
   "source": [
    "# La columna 'dt' esta en formato de objeto, la modificaremos a cadena de formato de fecha.\n",
    "gastos['dt'] = pd.to_datetime(gastos['dt'])"
   ]
  },
  {
   "cell_type": "code",
   "execution_count": 13,
   "metadata": {},
   "outputs": [
    {
     "name": "stdout",
     "output_type": "stream",
     "text": [
      "                Buy Ts  Revenue                   Uid\n",
      "0  2017-06-01 00:10:00    17.00  10329302124590727494\n",
      "1  2017-06-01 00:25:00     0.55  11627257723692907447\n",
      "2  2017-06-01 00:27:00     0.37  17903680561304213844\n",
      "3  2017-06-01 00:29:00     0.55  16109239769442553005\n",
      "4  2017-06-01 07:58:00     0.37  14200605875248379450\n",
      "\n",
      "<class 'pandas.core.frame.DataFrame'>\n",
      "RangeIndex: 50415 entries, 0 to 50414\n",
      "Data columns (total 3 columns):\n",
      " #   Column   Non-Null Count  Dtype  \n",
      "---  ------   --------------  -----  \n",
      " 0   Buy Ts   50415 non-null  object \n",
      " 1   Revenue  50415 non-null  float64\n",
      " 2   Uid      50415 non-null  uint64 \n",
      "dtypes: float64(1), object(1), uint64(1)\n",
      "memory usage: 1.2+ MB\n",
      "None\n",
      "\n",
      "Numero de filas duplicadas: 0\n"
     ]
    }
   ],
   "source": [
    "# Vista previa de los datos.\n",
    "print(pedidos.head())\n",
    "print()\n",
    "print(pedidos.info())\n",
    "print()\n",
    "print('Numero de filas duplicadas:',pedidos.duplicated().sum())"
   ]
  },
  {
   "cell_type": "code",
   "execution_count": 14,
   "metadata": {},
   "outputs": [],
   "source": [
    "# Modificaremos todas las letras de las columnas a minusculas, tambien el tipo de dato en 'buy ts' a tipo fecha.\n",
    "pedidos.columns = pedidos.columns.str.lower()\n",
    "pedidos['buy ts'] = pd.to_datetime(pedidos['buy ts'])\n",
    "pedidos.columns = [col.replace(' ','_') for col in pedidos.columns]"
   ]
  },
  {
   "cell_type": "code",
   "execution_count": 15,
   "metadata": {},
   "outputs": [
    {
     "name": "stdout",
     "output_type": "stream",
     "text": [
      "    Device               End Ts  Source Id             Start Ts  \\\n",
      "0    touch  2017-12-20 17:38:00          4  2017-12-20 17:20:00   \n",
      "1  desktop  2018-02-19 17:21:00          2  2018-02-19 16:53:00   \n",
      "2    touch  2017-07-01 01:54:00          5  2017-07-01 01:54:00   \n",
      "3  desktop  2018-05-20 11:23:00          9  2018-05-20 10:59:00   \n",
      "4  desktop  2017-12-27 14:06:00          3  2017-12-27 14:06:00   \n",
      "\n",
      "                    Uid  \n",
      "0  16879256277535980062  \n",
      "1    104060357244891740  \n",
      "2   7459035603376831527  \n",
      "3  16174680259334210214  \n",
      "4   9969694820036681168  \n",
      "\n",
      "<class 'pandas.core.frame.DataFrame'>\n",
      "RangeIndex: 359400 entries, 0 to 359399\n",
      "Data columns (total 5 columns):\n",
      " #   Column     Non-Null Count   Dtype \n",
      "---  ------     --------------   ----- \n",
      " 0   Device     359400 non-null  object\n",
      " 1   End Ts     359400 non-null  object\n",
      " 2   Source Id  359400 non-null  int64 \n",
      " 3   Start Ts   359400 non-null  object\n",
      " 4   Uid        359400 non-null  uint64\n",
      "dtypes: int64(1), object(3), uint64(1)\n",
      "memory usage: 13.7+ MB\n",
      "None\n",
      "\n",
      "Numero de filas duplicadas: 0\n"
     ]
    }
   ],
   "source": [
    "# Vista previa de los datos.\n",
    "print(visitas.head())\n",
    "print()\n",
    "print(visitas.info())\n",
    "print()\n",
    "print('Numero de filas duplicadas:',visitas.duplicated().sum())"
   ]
  },
  {
   "cell_type": "code",
   "execution_count": 16,
   "metadata": {},
   "outputs": [],
   "source": [
    "# Modificaremos todas las letras de las columnas a minusculas, tambien el tipo de dato en 'end ts' y 'start ts' a tipo fecha\n",
    "visitas.columns = visitas.columns.str.lower()\n",
    "visitas['end ts'] = pd.to_datetime(visitas['end ts'])\n",
    "visitas['start ts'] = pd.to_datetime(visitas['start ts'])\n",
    "visitas.columns = [col.replace((' '), ('_')) for col in visitas.columns]"
   ]
  },
  {
   "cell_type": "markdown",
   "metadata": {},
   "source": [
    "##  Informes y calcula métricas de visitas"
   ]
  },
  {
   "cell_type": "markdown",
   "metadata": {},
   "source": [
    "### ¿Cuántas personas lo usan cada día, semana y mes?"
   ]
  },
  {
   "cell_type": "code",
   "execution_count": 17,
   "metadata": {},
   "outputs": [],
   "source": [
    "# DAU (\"Daily Active Users\"):\n",
    "# WAU (\"Weekly Active Users\"):\n",
    "# MAU (\"Monthly Active Users\"):\n",
    "\n",
    "# Estas columnas brindan la información del calendario ISO para cada valor de datetime, lo que facilita el análisis o la visualización, según los parámetros del calendario ISO.\n",
    "\n",
    "visitas['year_ts'] = visitas['start_ts'].dt.isocalendar().year\n",
    "visitas['month_ts'] = visitas['start_ts'].dt.month\n",
    "visitas['week_ts'] = visitas['start_ts'].dt.isocalendar().week\n",
    "visitas['date_ts'] = visitas['start_ts'].dt.date\n",
    "\n",
    "dau = visitas.groupby('date_ts').agg({'uid':'nunique'})\n",
    "wau = visitas.groupby(['year_ts', 'week_ts']).agg({'uid': 'nunique'})\n",
    "mau = visitas.groupby(['year_ts','month_ts']).agg({'uid':'nunique'})"
   ]
  },
  {
   "cell_type": "code",
   "execution_count": 18,
   "metadata": {},
   "outputs": [
    {
     "name": "stdout",
     "output_type": "stream",
     "text": [
      "Cuantas personas lo usan cada dia: 907\n",
      "Cuantas personas lo usan cada semana: 5716\n",
      "Cuantas personas lo usan cada mes: 23228\n"
     ]
    },
    {
     "name": "stderr",
     "output_type": "stream",
     "text": [
      "/var/folders/y8/f0jgdbxx0ln8rkqv0wph8qnw0000gn/T/ipykernel_93217/3054797318.py:1: FutureWarning: Calling int on a single element Series is deprecated and will raise a TypeError in the future. Use int(ser.iloc[0]) instead\n",
      "  print('Cuantas personas lo usan cada dia:', (int(dau.mean())))\n",
      "/var/folders/y8/f0jgdbxx0ln8rkqv0wph8qnw0000gn/T/ipykernel_93217/3054797318.py:2: FutureWarning: Calling int on a single element Series is deprecated and will raise a TypeError in the future. Use int(ser.iloc[0]) instead\n",
      "  print('Cuantas personas lo usan cada semana:', (int(wau.mean())))\n",
      "/var/folders/y8/f0jgdbxx0ln8rkqv0wph8qnw0000gn/T/ipykernel_93217/3054797318.py:3: FutureWarning: Calling int on a single element Series is deprecated and will raise a TypeError in the future. Use int(ser.iloc[0]) instead\n",
      "  print('Cuantas personas lo usan cada mes:', (int(mau.mean())))\n"
     ]
    }
   ],
   "source": [
    "print('Cuantas personas lo usan cada dia:', (int(dau.mean())))\n",
    "print('Cuantas personas lo usan cada semana:', (int(wau.mean())))\n",
    "print('Cuantas personas lo usan cada mes:', (int(mau.mean())))"
   ]
  },
  {
   "cell_type": "code",
   "execution_count": 19,
   "metadata": {},
   "outputs": [
    {
     "data": {
      "image/png": "[encoded data removed]",
      "text/plain": [
       "<Figure size 1000x500 with 1 Axes>"
      ]
     },
     "metadata": {},
     "output_type": "display_data"
    }
   ],
   "source": [
    "# Crearemos un gráfico para 'DAU'\n",
    "plt.figure(figsize=(10, 5))\n",
    "plt.plot(dau, color='blue', linestyle='-')\n",
    "plt.title('Daily Active Users (DAU)')\n",
    "plt.xlabel('Day')\n",
    "plt.ylabel('Number of Unique Users')\n",
    "plt.grid(True)\n",
    "plt.show()\n"
   ]
  },
  {
   "cell_type": "markdown",
   "metadata": {},
   "source": [
    "**Notas:** Durante el periodo de análisis, se observa una tendencia creciente en el número de usuarios activos diarios (DAU) en la plataforma Showz, especialmente hacia finales de 2017, lo que puede estar relacionado con campañas de marketing o eventos de alta demanda. Destacan dos picos importantes: uno en noviembre de 2017 y otro a mediados de 2018. Sin embargo, también se detectan caídas atípicas que podrían deberse a problemas técnicos o eventos fuera del control del negocio, lo cual sugiere que debe revisarse la calidad de los datos o eventos externos en esas fechas."
   ]
  },
  {
   "cell_type": "code",
   "execution_count": 20,
   "metadata": {},
   "outputs": [
    {
     "data": {
      "image/png": "[encoded data removed]",
      "text/plain": [
       "<Figure size 1000x500 with 1 Axes>"
      ]
     },
     "metadata": {},
     "output_type": "display_data"
    }
   ],
   "source": [
    "# Crearemos un grafico para 'WAU'\n",
    "wau_grafica = visitas.groupby('week_ts')['uid'].nunique()\n",
    "\n",
    "plt.figure(figsize=(10, 5))\n",
    "plt.plot(wau_grafica, color='blue', linestyle='-')\n",
    "plt.title('Weekly Active Users (WAU)')\n",
    "plt.xlabel('Week')\n",
    "plt.ylabel('Number of Unique Users')\n",
    "plt.grid(True)\n",
    "plt.show()\n"
   ]
  },
  {
   "cell_type": "markdown",
   "metadata": {},
   "source": [
    "**Notas:** El análisis semanal de usuarios activos (WAU) muestra una disminución progresiva entre las semanas 10 y 30, con un punto mínimo en la semana 31. A partir de ahí, se da una recuperación constante, alcanzando un máximo pico en la semana 47, lo que sugiere un evento o campaña de alto impacto. Este comportamiento refuerza la idea de que el último trimestre del año concentra mayor actividad, y permite observar patrones más puntuales que pueden ser útiles para optimizar la distribución semanal del presupuesto de marketing."
   ]
  },
  {
   "cell_type": "code",
   "execution_count": 21,
   "metadata": {},
   "outputs": [
    {
     "data": {
      "image/png": "[encoded data removed]",
      "text/plain": [
       "<Figure size 1000x500 with 1 Axes>"
      ]
     },
     "metadata": {},
     "output_type": "display_data"
    }
   ],
   "source": [
    "# Crearemos un grafico para 'MAU'\n",
    "mau_grafica = visitas.groupby('month_ts')['uid'].nunique()\n",
    "\n",
    "plt.figure(figsize=(10, 5))\n",
    "plt.plot(mau_grafica, color='blue', linestyle='-')\n",
    "plt.title('Monthly Active Users (MAU)')\n",
    "plt.xlabel('Month')\n",
    "plt.ylabel('Number of Unique Users')\n",
    "plt.grid(True)\n",
    "plt.show()\n"
   ]
  },
  {
   "cell_type": "markdown",
   "metadata": {},
   "source": [
    "**Notas:** A lo largo del año, se observa un comportamiento estacional en la cantidad de usuarios activos mensuales (MAU). El uso del servicio disminuye de marzo a agosto, lo que puede estar relacionado con una baja demanda durante el verano. Sin embargo, a partir de septiembre, se da una recuperación significativa, con un pico en noviembre, posiblemente debido a eventos de alta demanda o campañas promocionales. Este patrón indica que el último trimestre del año es el más activo, lo cual es importante para planificar campañas de marketing y asignar presupuestos estratégicamente."
   ]
  },
  {
   "cell_type": "code",
   "execution_count": 22,
   "metadata": {},
   "outputs": [
    {
     "name": "stdout",
     "output_type": "stream",
     "text": [
      "Cuantas sesiones hay por dia: 987\n"
     ]
    },
    {
     "name": "stderr",
     "output_type": "stream",
     "text": [
      "/var/folders/y8/f0jgdbxx0ln8rkqv0wph8qnw0000gn/T/ipykernel_93217/1743657028.py:5: FutureWarning: Calling int on a single element Series is deprecated and will raise a TypeError in the future. Use int(ser.iloc[0]) instead\n",
      "  print('Cuantas sesiones hay por dia:', (int(day_sessions)))\n"
     ]
    }
   ],
   "source": [
    "# Obtendremos cuantas sessiones hay por dia (se considera que cada usuario puede tener mas de una session).\n",
    "\n",
    "day_sessions = visitas.groupby('date_ts').agg({'uid':'count'}).mean()\n",
    "\n",
    "print('Cuantas sesiones hay por dia:', (int(day_sessions)))"
   ]
  },
  {
   "cell_type": "code",
   "execution_count": 23,
   "metadata": {},
   "outputs": [
    {
     "name": "stdout",
     "output_type": "stream",
     "text": [
      "Duracion promedio de cada sesion: 643.506488592098\n"
     ]
    }
   ],
   "source": [
    "# Obtendremos cual es la duracion promedio de cada sesión.\n",
    "\n",
    "visitas['duration_ts_sec'] = (visitas['end_ts'] - visitas['start_ts']).dt.seconds\n",
    "print('Duracion promedio de cada sesion:', (visitas['duration_ts_sec'].mean()))"
   ]
  },
  {
   "cell_type": "code",
   "execution_count": 24,
   "metadata": {},
   "outputs": [
    {
     "data": {
      "text/html": [
       "<div>\n",
       "<style scoped>\n",
       "    .dataframe tbody tr th:only-of-type {\n",
       "        vertical-align: middle;\n",
       "    }\n",
       "\n",
       "    .dataframe tbody tr th {\n",
       "        vertical-align: top;\n",
       "    }\n",
       "\n",
       "    .dataframe thead th {\n",
       "        text-align: right;\n",
       "    }\n",
       "</style>\n",
       "<table border=\"1\" class=\"dataframe\">\n",
       "  <thead>\n",
       "    <tr style=\"text-align: right;\">\n",
       "      <th></th>\n",
       "      <th></th>\n",
       "      <th>n_sessions</th>\n",
       "      <th>n_users</th>\n",
       "      <th>session_per_user</th>\n",
       "    </tr>\n",
       "    <tr>\n",
       "      <th>year_ts</th>\n",
       "      <th>month_ts</th>\n",
       "      <th></th>\n",
       "      <th></th>\n",
       "      <th></th>\n",
       "    </tr>\n",
       "  </thead>\n",
       "  <tbody>\n",
       "    <tr>\n",
       "      <th rowspan=\"7\" valign=\"top\">2017</th>\n",
       "      <th>6</th>\n",
       "      <td>16505</td>\n",
       "      <td>13259</td>\n",
       "      <td>1.244815</td>\n",
       "    </tr>\n",
       "    <tr>\n",
       "      <th>7</th>\n",
       "      <td>17828</td>\n",
       "      <td>14183</td>\n",
       "      <td>1.256998</td>\n",
       "    </tr>\n",
       "    <tr>\n",
       "      <th>8</th>\n",
       "      <td>14355</td>\n",
       "      <td>11631</td>\n",
       "      <td>1.234202</td>\n",
       "    </tr>\n",
       "    <tr>\n",
       "      <th>9</th>\n",
       "      <td>23907</td>\n",
       "      <td>18975</td>\n",
       "      <td>1.259921</td>\n",
       "    </tr>\n",
       "    <tr>\n",
       "      <th>10</th>\n",
       "      <td>37903</td>\n",
       "      <td>29692</td>\n",
       "      <td>1.276539</td>\n",
       "    </tr>\n",
       "    <tr>\n",
       "      <th>11</th>\n",
       "      <td>43969</td>\n",
       "      <td>32797</td>\n",
       "      <td>1.340641</td>\n",
       "    </tr>\n",
       "    <tr>\n",
       "      <th>12</th>\n",
       "      <td>41983</td>\n",
       "      <td>31557</td>\n",
       "      <td>1.330386</td>\n",
       "    </tr>\n",
       "    <tr>\n",
       "      <th rowspan=\"5\" valign=\"top\">2018</th>\n",
       "      <th>1</th>\n",
       "      <td>36939</td>\n",
       "      <td>28716</td>\n",
       "      <td>1.286356</td>\n",
       "    </tr>\n",
       "    <tr>\n",
       "      <th>2</th>\n",
       "      <td>37182</td>\n",
       "      <td>28749</td>\n",
       "      <td>1.293332</td>\n",
       "    </tr>\n",
       "    <tr>\n",
       "      <th>3</th>\n",
       "      <td>35679</td>\n",
       "      <td>27473</td>\n",
       "      <td>1.298693</td>\n",
       "    </tr>\n",
       "    <tr>\n",
       "      <th>4</th>\n",
       "      <td>26515</td>\n",
       "      <td>21008</td>\n",
       "      <td>1.262138</td>\n",
       "    </tr>\n",
       "    <tr>\n",
       "      <th>5</th>\n",
       "      <td>26635</td>\n",
       "      <td>20701</td>\n",
       "      <td>1.286653</td>\n",
       "    </tr>\n",
       "  </tbody>\n",
       "</table>\n",
       "</div>"
      ],
      "text/plain": [
       "                  n_sessions  n_users  session_per_user\n",
       "year_ts month_ts                                       \n",
       "2017    6              16505    13259          1.244815\n",
       "        7              17828    14183          1.256998\n",
       "        8              14355    11631          1.234202\n",
       "        9              23907    18975          1.259921\n",
       "        10             37903    29692          1.276539\n",
       "        11             43969    32797          1.340641\n",
       "        12             41983    31557          1.330386\n",
       "2018    1              36939    28716          1.286356\n",
       "        2              37182    28749          1.293332\n",
       "        3              35679    27473          1.298693\n",
       "        4              26515    21008          1.262138\n",
       "        5              26635    20701          1.286653"
      ]
     },
     "execution_count": 24,
     "metadata": {},
     "output_type": "execute_result"
    }
   ],
   "source": [
    "# Obtendremos con que frecuencia los usuarios regresan mensualmente.\n",
    "\n",
    "session_per_user = visitas.groupby(['year_ts', 'month_ts']).agg({'uid':['count', 'nunique']})\n",
    "session_per_user.columns = ['n_sessions', 'n_users']\n",
    "session_per_user['session_per_user'] = (session_per_user['n_sessions'] / session_per_user['n_users'])\n",
    "session_per_user"
   ]
  },
  {
   "cell_type": "markdown",
   "metadata": {},
   "source": [
    "#### Conclusión de las visitas en Showz\n",
    "\n",
    "Actividad del Usuario (DAU, WAU, MAU):\n",
    "\n",
    "Los cálculos indican que el DAU promedio es de 907 usuarios, el WAU promedio es de 5716 usuarios, y el MAU promedio es de 23228 usuarios. Esto muestra que mientras tienes una base sólida de usuarios mensuales.\n",
    "\n",
    "Frecuencia de Reingreso:\n",
    "\n",
    "La diferencia entre el número de sesiones y el número de usuarios únicos diarios es relativamente pequeña (987 sesiones vs. 907 usuarios), lo que sugiere que no hay una gran cantidad de usuarios que regresan varias veces al día. \n",
    "\n",
    "La duración promedio de las sesiones es de 643 segundos (aproximadamente 10.7 minutos), lo cual es bastante tiempo (por ejemplo, si es un proceso de compra de entradas), podría haber espacio para optimizar y acelerar ciertas interacciones.\n",
    "\n",
    "Retorno de Usuarios:\n",
    "\n",
    "Los usuarios regresan al sitio aproximadamente 1.24 a 1.34 veces al mes, lo cual es relativamente bajo para un sitio de eventos, donde podrías esperar una mayor frecuencia de visita especialmente en temporadas altas de eventos. Esto sugiere que las estrategias para aumentar la frecuencia de visitas podrían incluir promociones dirigidas, recordatorios de eventos próximos."
   ]
  },
  {
   "cell_type": "markdown",
   "metadata": {},
   "source": [
    "##  Informes y calcula métricas de ventas"
   ]
  },
  {
   "cell_type": "code",
   "execution_count": 25,
   "metadata": {},
   "outputs": [],
   "source": [
    "# Nos interesa saber el tiempo que transcurre entre el registro y la conversión, es decir, cuando el usuario se convierte en cliente.\n",
    "first_purchase = pedidos.groupby('uid')['buy_ts'].min()\n",
    "first_purchase.name = 'first_purchase'\n",
    "\n",
    "# Convertir la serie en un DataFrame para unir más fácilmente.\n",
    "first_purchase_df = first_purchase.reset_index()\n",
    "\n",
    "# Usar merge para unir 'pedidos' con 'first_buy_df'.\n",
    "pedidos = pedidos.merge(first_purchase_df, on='uid', how='left')\n",
    "\n",
    "# Obtendremos el registro del usuario.\n",
    "registration = visitas.groupby('uid')['start_ts'].min()\n",
    "registration.name = 'registration'\n",
    "registration_df = registration.reset_index()\n",
    "\n",
    "# Unimos las nuevas columnas con el registro y la primera compra del usuario.\n",
    "visitas = visitas.merge(first_purchase_df, on='uid', how='left')\n",
    "visitas = visitas.merge(registration_df, on='uid', how='left')\n",
    "\n",
    "# Creamos una nueva columna para saber los dias que tardaron para la conversion.\n",
    "visitas['days_to_conversion'] = (visitas['first_purchase'] - visitas['registration']).dt.days\n",
    "\n",
    "# Crearemos una funcion para categorizar la conversión basada en los días hasta la conversión.\n",
    "def categorize_conversion(days):\n",
    "    if pd.isna(days):\n",
    "        return 'No convesion'\n",
    "    elif pd == 0:\n",
    "        return 'Conversion 0d'\n",
    "    else:\n",
    "        return f'conversion {int(days)}d'\n",
    "    \n",
    "# Aplicamos la funcion para crear la columna 'conversion_category'\n",
    "visitas['conversion_category'] = visitas['days_to_conversion'].apply(categorize_conversion)"
   ]
  },
  {
   "cell_type": "code",
   "execution_count": 26,
   "metadata": {},
   "outputs": [
    {
     "name": "stdout",
     "output_type": "stream",
     "text": [
      "conversion_category\n",
      "No convesion      262006\n",
      "conversion 0d      48416\n",
      "conversion 1d       3864\n",
      "conversion 4d       2183\n",
      "conversion 2d       1925\n",
      "conversion 3d       1563\n",
      "conversion 6d       1424\n",
      "conversion 5d       1169\n",
      "conversion 21d       775\n",
      "conversion 20d       773\n",
      "Name: count, dtype: int64\n"
     ]
    },
    {
     "name": "stderr",
     "output_type": "stream",
     "text": [
      "/var/folders/y8/f0jgdbxx0ln8rkqv0wph8qnw0000gn/T/ipykernel_93217/2781274773.py:6: FutureWarning: A value is trying to be set on a copy of a DataFrame or Series through chained assignment using an inplace method.\n",
      "The behavior will change in pandas 3.0. This inplace method will never work because the intermediate object on which we are setting values always behaves as a copy.\n",
      "\n",
      "For example, when doing 'df[col].method(value, inplace=True)', try using 'df.method({col: value}, inplace=True)' or df[col] = df[col].method(value) instead, to perform the operation inplace on the original object.\n",
      "\n",
      "\n",
      "  visitas['days_to_conversion'].fillna(-1, inplace=True)\n"
     ]
    }
   ],
   "source": [
    "# Ordenar y contar las categorías de conversión\n",
    "conversion_counts = visitas['conversion_category'].value_counts().sort_index().sort_values(ascending=False)\n",
    "print(conversion_counts.head(10))\n",
    "\n",
    "# Llenar valores faltantes en 'days_to_conversion'\n",
    "visitas['days_to_conversion'].fillna(-1, inplace=True)"
   ]
  },
  {
   "cell_type": "code",
   "execution_count": 27,
   "metadata": {},
   "outputs": [
    {
     "data": {
      "image/png": "[encoded data removed]",
      "text/plain": [
       "<Figure size 1200x600 with 1 Axes>"
      ]
     },
     "metadata": {},
     "output_type": "display_data"
    }
   ],
   "source": [
    "# Configurar el gráfico de dias para conversion.\n",
    "plt.figure(figsize=(12, 6))\n",
    "plt.hist(visitas['days_to_conversion'], bins=range(0, 15, 1), color='skyblue', edgecolor='black')\n",
    "\n",
    "# Configurar títulos y etiquetas.\n",
    "plt.title('Histogram of Days to Conversion')\n",
    "plt.xlabel('Days to Conversion')\n",
    "plt.ylabel('Number of Users')\n",
    "plt.xticks(range(0, 15, 1))  # Ajustar según los rangos de interés\n",
    "\n",
    "# Mostrar el gráfico\n",
    "plt.grid(True)\n",
    "plt.show()"
   ]
  },
  {
   "cell_type": "markdown",
   "metadata": {},
   "source": [
    "**Notas:** El histograma de días hasta la conversión muestra que la mayoría de los usuarios convierten el mismo día en que realizan su primera visita a la plataforma, lo que indica un proceso de conversión altamente eficiente e inmediato. A partir del segundo día, la tasa de conversión cae de manera significativa. Esto sugiere que las decisiones de compra en Showz son mayormente impulsivas o bien motivadas por una necesidad puntual (como entradas urgentes). En términos de marketing, vale la pena enfocar esfuerzos en mejorar la conversión inmediata, ya que las probabilidades de conversión disminuyen drásticamente después del primer día."
   ]
  },
  {
   "cell_type": "markdown",
   "metadata": {},
   "source": [
    "### ¿cuántos pedidos se realizan cada mes?"
   ]
  },
  {
   "cell_type": "code",
   "execution_count": 28,
   "metadata": {},
   "outputs": [
    {
     "name": "stderr",
     "output_type": "stream",
     "text": [
      "/var/folders/y8/f0jgdbxx0ln8rkqv0wph8qnw0000gn/T/ipykernel_93217/499785831.py:2: FutureWarning: 'M' is deprecated and will be removed in a future version, please use 'ME' instead.\n",
      "  orders_per_month = pedidos.groupby(pd.Grouper(key='buy_ts', freq='M')).size()\n"
     ]
    },
    {
     "data": {
      "text/plain": [
       "buy_ts\n",
       "2017-06    2354\n",
       "2017-07    2363\n",
       "2017-08    1807\n",
       "2017-09    3387\n",
       "2017-10    5679\n",
       "2017-11    5659\n",
       "2017-12    6218\n",
       "2018-01    4721\n",
       "2018-02    5281\n",
       "2018-03    5326\n",
       "2018-04    3273\n",
       "2018-05    4346\n",
       "2018-06       1\n",
       "dtype: int64"
      ]
     },
     "execution_count": 28,
     "metadata": {},
     "output_type": "execute_result"
    }
   ],
   "source": [
    "# Para calcular cuántos pedidos se realizan cada mes.\n",
    "orders_per_month = pedidos.groupby(pd.Grouper(key='buy_ts', freq='M')).size()\n",
    "\n",
    "# Convertir el índice de 'orders_per_month' para que solo muestre año y mes.\n",
    "orders_per_month.index = orders_per_month.index.strftime('%Y-%m')\n",
    "\n",
    "orders_per_month"
   ]
  },
  {
   "cell_type": "code",
   "execution_count": 29,
   "metadata": {},
   "outputs": [
    {
     "data": {
      "image/png": "[encoded data removed]",
      "text/plain": [
       "<Figure size 1000x600 with 1 Axes>"
      ]
     },
     "metadata": {},
     "output_type": "display_data"
    }
   ],
   "source": [
    "# Creamos un grafico de ordenes mensuales para visualizar mejor.\n",
    "\n",
    "plt.figure(figsize=(10,6))\n",
    "plt.plot(orders_per_month, marker='o', color='b')\n",
    "plt.title('Orders per Month')\n",
    "plt.xlabel('Month')\n",
    "plt.ylabel('Number of Orders')\n",
    "plt.xticks(rotation=45)\n",
    "plt.grid(True)\n",
    "plt.show()"
   ]
  },
  {
   "cell_type": "markdown",
   "metadata": {},
   "source": [
    "**Notas:** El volumen mensual de pedidos muestra un aumento constante desde mediados de 2017, alcanzando su punto máximo en diciembre de ese año. Este comportamiento podría estar influenciado por estrategias de marketing efectivas o una mayor concentración de eventos relevantes en esa época. En 2018, se observa una tendencia a la baja, con una caída significativa en abril y un repunte en mayo. La abrupta caída en junio puede deberse a un registro parcial de datos. "
   ]
  },
  {
   "cell_type": "markdown",
   "metadata": {},
   "source": [
    "### ¿Cuál es el tamaño promedio de compra?"
   ]
  },
  {
   "cell_type": "code",
   "execution_count": 30,
   "metadata": {},
   "outputs": [
    {
     "name": "stdout",
     "output_type": "stream",
     "text": [
      "Tamaño promedio de compra: 4.999646930477041\n"
     ]
    }
   ],
   "source": [
    "# Tamaño promedio de compra.\n",
    "\n",
    "avg_revenue_per_purchase = pedidos['revenue'].mean()\n",
    "print('Tamaño promedio de compra:', avg_revenue_per_purchase)"
   ]
  },
  {
   "cell_type": "code",
   "execution_count": 31,
   "metadata": {},
   "outputs": [
    {
     "name": "stderr",
     "output_type": "stream",
     "text": [
      "/var/folders/y8/f0jgdbxx0ln8rkqv0wph8qnw0000gn/T/ipykernel_93217/702125996.py:2: FutureWarning: 'M' is deprecated and will be removed in a future version, please use 'ME' instead.\n",
      "  avg_revenue_per_purchase_per_month = pedidos.groupby(pd.Grouper(key='buy_ts', freq='M'))['revenue'].mean()\n"
     ]
    }
   ],
   "source": [
    "# Tamaño promedio de compra por cada mes.\n",
    "avg_revenue_per_purchase_per_month = pedidos.groupby(pd.Grouper(key='buy_ts', freq='M'))['revenue'].mean()"
   ]
  },
  {
   "cell_type": "code",
   "execution_count": 32,
   "metadata": {},
   "outputs": [
    {
     "data": {
      "text/plain": [
       "buy_ts\n",
       "2017-06-30    4.060106\n",
       "2017-07-31    5.306589\n",
       "2017-08-31    4.847139\n",
       "2017-09-30    5.416448\n",
       "2017-10-31    4.928280\n",
       "2017-11-30    4.783518\n",
       "2017-12-31    5.852139\n",
       "2018-01-31    4.112927\n",
       "2018-02-28    4.840095\n",
       "2018-03-31    5.413930\n",
       "2018-04-30    5.150645\n",
       "2018-05-31    4.771279\n",
       "2018-06-30    3.420000\n",
       "Freq: ME, Name: revenue, dtype: float64"
      ]
     },
     "execution_count": 32,
     "metadata": {},
     "output_type": "execute_result"
    }
   ],
   "source": [
    "avg_revenue_per_purchase_per_month"
   ]
  },
  {
   "cell_type": "code",
   "execution_count": 33,
   "metadata": {},
   "outputs": [
    {
     "data": {
      "image/png": "[encoded data removed]",
      "text/plain": [
       "<Figure size 1000x600 with 1 Axes>"
      ]
     },
     "metadata": {},
     "output_type": "display_data"
    }
   ],
   "source": [
    "# Creamos un grafico de el tamaño promedio de compra por cada mes.\n",
    "plt.figure(figsize=(10,6))\n",
    "plt.plot(avg_revenue_per_purchase_per_month, marker='o', color='b')\n",
    "plt.title('Average Revenue per Purchase per Month')\n",
    "plt.xlabel('Month')\n",
    "plt.ylabel('Average Revenue (Dolars)')\n",
    "plt.xticks(rotation=45)\n",
    "plt.grid(True)\n",
    "plt.show()"
   ]
  },
  {
   "cell_type": "markdown",
   "metadata": {},
   "source": [
    "**Notas:** El ingreso promedio por compra ha sido relativamente estable durante el periodo analizado, manteniéndose mayormente por encima de los $4.80 USD. El pico más alto se registra en enero de 2018, lo que podría estar relacionado con eventos de mayor valor o menor cantidad de compras con tickets baratos. Por el contrario, la caída abrupta en julio de 2018 podría deberse a datos incompletos."
   ]
  },
  {
   "cell_type": "code",
   "execution_count": 34,
   "metadata": {},
   "outputs": [
    {
     "name": "stdout",
     "output_type": "stream",
     "text": [
      "beneficio del ciclo de vida del cliente: 6.901327930345262\n"
     ]
    }
   ],
   "source": [
    "# Calcularemos LTV (valor del ciclo de vida del cliente) es la cantidad total de dinero que un cliente aporta a la empresa en promedio al realizar compras.\n",
    "\n",
    "ltv = pedidos.groupby('uid')['revenue'].sum().mean()\n",
    "print('beneficio del ciclo de vida del cliente:',ltv)"
   ]
  },
  {
   "cell_type": "markdown",
   "metadata": {},
   "source": [
    "#### Conclusión general del Análisis de Ventas\n",
    "\n",
    "Objetivo del Análisis: El análisis se centró en comprender el comportamiento de compra de los usuarios desde el momento de su registro hasta su conversión en clientes, evaluando la frecuencia de compras y el valor económico que aportan durante su interacción con la empresa.\n",
    "\n",
    "\n",
    "Conversión de Usuarios:\n",
    "\n",
    "Se identificó el tiempo que transcurre desde el registro de un usuario hasta su primera compra, categorizando esta conversión en intervalos diarios como 'Conversion 0d', 'Conversion 1d', etc.\n",
    "Se utilizó una combinación de datos de los DataFrames pedidos y visitas para determinar el momento del registro y de la primera compra, y así calcular los días hasta la conversión.\n",
    "Frecuencia de Pedidos:\n",
    "\n",
    "Se analizó la cantidad de pedidos realizados mensualmente para detectar tendencias y patrones que pudieran influir en las estrategias de marketing y ventas.\n",
    "Valor Promedio de las Compras:\n",
    "\n",
    "Se calculó el tamaño promedio de compra, tanto de manera general como desglosado por mes, proporcionando insights sobre la variabilidad en el gasto de los consumidores y la efectividad de las políticas de precios.\n",
    "Visualización de Datos:\n",
    "\n",
    "Se elaboraron gráficos para representar visualmente los pedidos por mes y el tamaño promedio de compra, facilitando la interpretación y la presentación de los datos.\n",
    "Valor del Ciclo de Vida del Cliente (LTV):\n",
    "\n",
    "Se estimó el LTV para entender el valor económico total que un cliente promedio aporta a lo largo de su relación con la empresa.\n",
    "\n",
    "Hallazgos Clave:\n",
    "\n",
    "- Conversión de Usuarios: La mayoría de las conversiones ocurren el mismo día del registro, destacando la eficacia de las tácticas inmediatas de conversión.\n",
    "\n",
    "- Frecuencia de Pedidos: Existen patrones estacionales y eventos que impactan significativamente en la cantidad de pedidos.\n",
    "\n",
    "- Valor Promedio de las Compras: Se observaron fluctuaciones en el gasto promedio, lo que puede indicar oportunidades para optimizar las estrategias de precios.\n",
    "\n",
    "- LTV: El valor promedio del ciclo de vida del cliente proporciona una base para ajustar las estrategias de adquisición y retención de clientes."
   ]
  },
  {
   "cell_type": "markdown",
   "metadata": {},
   "source": [
    "## Informes y calcula métricas de marketing"
   ]
  },
  {
   "cell_type": "code",
   "execution_count": 35,
   "metadata": {},
   "outputs": [
    {
     "name": "stdout",
     "output_type": "stream",
     "text": [
      "Total dinero gastado en marketing: 329131.62\n"
     ]
    }
   ],
   "source": [
    "# Calculamos cuánto dinero se gastó en marketing a lo largo del tiempo.\n",
    "\n",
    "total_marketing_cost = gastos['costs'].sum()\n",
    "print('Total dinero gastado en marketing:', total_marketing_cost) "
   ]
  },
  {
   "cell_type": "code",
   "execution_count": 36,
   "metadata": {},
   "outputs": [
    {
     "data": {
      "text/plain": [
       "source_id\n",
       "1      20833.27\n",
       "2      42806.04\n",
       "3     141321.63\n",
       "4      61073.60\n",
       "5      51757.10\n",
       "9       5517.49\n",
       "10      5822.49\n",
       "Name: costs, dtype: float64"
      ]
     },
     "execution_count": 36,
     "metadata": {},
     "output_type": "execute_result"
    }
   ],
   "source": [
    "# Calculamos cuánto dinero se gastó por fuente de adquisición a lo largo del tiempo.\n",
    "\n",
    "marketing_cost_per_source = gastos.groupby('source_id')['costs'].sum()\n",
    "marketing_cost_per_source"
   ]
  },
  {
   "cell_type": "code",
   "execution_count": 37,
   "metadata": {},
   "outputs": [
    {
     "data": {
      "image/png": "[encoded data removed]",
      "text/plain": [
       "<Figure size 1000x600 with 1 Axes>"
      ]
     },
     "metadata": {},
     "output_type": "display_data"
    }
   ],
   "source": [
    "# Graficaremos el gasto por fuente de adquisición.\n",
    "\n",
    "plt.figure(figsize=(10,6))\n",
    "plt.plot(marketing_cost_per_source, marker='o', color='blue')\n",
    "plt.title('Marketing Cost per Source ID')\n",
    "plt.xlabel('Source ID')\n",
    "plt.ylabel('Cost (Dolars)')\n",
    "plt.show()\n"
   ]
  },
  {
   "cell_type": "markdown",
   "metadata": {},
   "source": [
    "**Notas:** El análisis del costo por canal de adquisición muestra que la mayor inversión de marketing se concentró en Source ID 3, con un gasto superior a los $140,000 USD, lo que representa una diferencia considerable frente a los demás canales. A partir de Source ID 6, los gastos se reducen drásticamente. Esta distribución sugiere que la estrategia de marketing se enfocó principalmente en pocos canales, especialmente el ID 3, lo que puede representar una oportunidad o un riesgo, dependiendo del retorno que estén generando. Es fundamental comparar estos costos con los ingresos o conversiones atribuibles a cada canal para evaluar su eficiencia real y optimizar la asignación del presupuesto."
   ]
  },
  {
   "cell_type": "markdown",
   "metadata": {},
   "source": [
    "### ¿Cuál fue el costo de adquisición de clientes de cada una de las fuentes?"
   ]
  },
  {
   "cell_type": "code",
   "execution_count": 38,
   "metadata": {
    "scrolled": true
   },
   "outputs": [
    {
     "data": {
      "text/plain": [
       "source_id\n",
       "1      2.918642\n",
       "2      5.859828\n",
       "3     10.206676\n",
       "4      4.284965\n",
       "5      5.096209\n",
       "7      0.000000\n",
       "9      1.975471\n",
       "10     3.283976\n",
       "dtype: float64"
      ]
     },
     "execution_count": 38,
     "metadata": {},
     "output_type": "execute_result"
    }
   ],
   "source": [
    "# Calcularemos el costo de adquisición de clientes para cada una de las fuentes.\n",
    "# unir el dataframe visitas y el de pedidos.\n",
    "\n",
    "conversion = pd.merge(visitas, pedidos, on='uid', how='inner')\n",
    "\n",
    "# calcular los ingresos totales por 'uid'.\n",
    "\n",
    "total_revenue_per_user = pedidos.groupby('uid')['revenue'].sum()\n",
    "\n",
    "# Contar el número de clientes únicos adquiridos por fuente\n",
    "\n",
    "clients_per_source = conversion.groupby('source_id')['uid'].nunique()\n",
    "\n",
    "# Calcular el CAC por fuente.\n",
    "\n",
    "cac_per_source = marketing_cost_per_source / clients_per_source\n",
    "cac_per_source.fillna(0)"
   ]
  },
  {
   "cell_type": "code",
   "execution_count": 39,
   "metadata": {},
   "outputs": [
    {
     "data": {
      "image/png": "[encoded data removed]",
      "text/plain": [
       "<Figure size 1000x600 with 1 Axes>"
      ]
     },
     "metadata": {},
     "output_type": "display_data"
    }
   ],
   "source": [
    "# Extraemos los valores para poderlos graficar.\n",
    "\n",
    "source_ids = cac_per_source.index\n",
    "cac_values = cac_per_source.values\n",
    "\n",
    "# Graficaremos el 'CAC por fuente' para una una mejor visualizacion.\n",
    "\n",
    "plt.figure(figsize=(10, 6))\n",
    "plt.bar(source_ids, cac_values, color='blue')\n",
    "plt.title('Customer Acquisition Cost by Source')\n",
    "plt.xlabel('Source ID')\n",
    "plt.ylabel('Acquisition Cost (Dollars)')\n",
    "plt.grid(axis='y')\n",
    "plt.show()"
   ]
  },
  {
   "cell_type": "markdown",
   "metadata": {},
   "source": [
    "**Notas:** El análisis del costo de adquisición por canal (CAC) revela que Source ID 3 es el canal más costoso, con un CAC superior a los $10 USD, lo que podría no ser rentable si no está generando usuarios de alto valor. En contraste, otros canales como los IDs 1, 2, 4, 5 y 10 presentan CACs mucho más bajos, entre $3 y $6 USD, lo cual puede representar mejores oportunidades de optimización."
   ]
  },
  {
   "cell_type": "markdown",
   "metadata": {},
   "source": [
    "### ¿Cuán rentables eran las inversiones? (ROMI)"
   ]
  },
  {
   "cell_type": "code",
   "execution_count": 40,
   "metadata": {},
   "outputs": [
    {
     "name": "stdout",
     "output_type": "stream",
     "text": [
      "           date  revenue\n",
      "0    2017-06-01   389.46\n",
      "1    2017-06-02   324.11\n",
      "2    2017-06-03   166.48\n",
      "3    2017-06-04   195.21\n",
      "4    2017-06-05   441.49\n",
      "..          ...      ...\n",
      "359  2018-05-28   740.00\n",
      "360  2018-05-29   491.06\n",
      "361  2018-05-30  1021.69\n",
      "362  2018-05-31  4613.92\n",
      "363  2018-06-01     3.42\n",
      "\n",
      "[364 rows x 2 columns]\n"
     ]
    }
   ],
   "source": [
    "# Sumar los costos por 'source_id' en el DataFrame de gastos.\n",
    "\n",
    "total_costs = gastos.groupby('source_id')['costs'].sum()\n",
    "\n",
    "# Obtenermos el \"revenue\" por dia para poder calcular el ROMI.\n",
    "\n",
    "revenue_per_day = pedidos.groupby(pedidos['buy_ts'].dt.date)['revenue'].sum()\n",
    "revenue_df = revenue_per_day.reset_index()\n",
    "revenue_df.columns = ['date', 'revenue']\n",
    "\n",
    "# Mostrar el resultado\n",
    "print(revenue_df)"
   ]
  },
  {
   "cell_type": "code",
   "execution_count": 41,
   "metadata": {},
   "outputs": [
    {
     "name": "stdout",
     "output_type": "stream",
     "text": [
      "         date  total_costs\n",
      "0  2017-06-01       735.26\n",
      "1  2017-06-02       721.19\n",
      "2  2017-06-03       450.85\n",
      "3  2017-06-04       761.16\n",
      "4  2017-06-05       821.44\n"
     ]
    }
   ],
   "source": [
    "\n",
    "# Agrupar los \"costs\" por día y sumarlos.\n",
    "\n",
    "costs_per_day = gastos.groupby(gastos['dt'].dt.date)['costs'].sum().reset_index()\n",
    "costs_per_day.columns = ['date', 'total_costs']\n",
    "\n",
    "# Mostrar el resultado\n",
    "print(costs_per_day.head())"
   ]
  },
  {
   "cell_type": "code",
   "execution_count": 42,
   "metadata": {},
   "outputs": [
    {
     "name": "stdout",
     "output_type": "stream",
     "text": [
      "           date  revenue  total_costs        ROMI\n",
      "0    2017-06-01   389.46       735.26  -47.030982\n",
      "1    2017-06-02   324.11       721.19  -55.059000\n",
      "2    2017-06-03   166.48       450.85  -63.074193\n",
      "3    2017-06-04   195.21       761.16  -74.353618\n",
      "4    2017-06-05   441.49       821.44  -46.254139\n",
      "..          ...      ...          ...         ...\n",
      "358  2018-05-27   374.19       532.87  -29.778370\n",
      "359  2018-05-28   740.00       619.44   19.462741\n",
      "360  2018-05-29   491.06       784.79  -37.427847\n",
      "361  2018-05-30  1021.69      1183.00  -13.635672\n",
      "362  2018-05-31  4613.92      2153.70  114.232251\n",
      "\n",
      "[363 rows x 4 columns]\n"
     ]
    }
   ],
   "source": [
    "# Unir los dataframes basados en la columna 'date'\n",
    "\n",
    "combined_data = pd.merge(revenue_df, costs_per_day, on='date', how='inner')\n",
    "\n",
    "# Calcular el ROMI\n",
    "combined_data['ROMI'] = (combined_data['revenue'] - combined_data['total_costs']) / combined_data['total_costs'] * 100\n",
    "\n",
    "# Mostrar los datos combinados y el ROMI\n",
    "print(combined_data)"
   ]
  },
  {
   "cell_type": "code",
   "execution_count": 43,
   "metadata": {},
   "outputs": [
    {
     "data": {
      "image/png": "[encoded data removed]",
      "text/plain": [
       "<Figure size 1400x700 with 1 Axes>"
      ]
     },
     "metadata": {},
     "output_type": "display_data"
    }
   ],
   "source": [
    "# Grafica para visuzalizar el ROMI diario en el tiempo.\n",
    "plt.figure(figsize=(14, 7))\n",
    "plt.plot(combined_data['date'], combined_data['ROMI'], marker='o', linestyle='-', color='blue')\n",
    "plt.title('Daily ROMI Over Time')\n",
    "plt.xlabel('Date')\n",
    "plt.ylabel('ROMI (%)')\n",
    "plt.grid(True)\n",
    "plt.show()"
   ]
  },
  {
   "cell_type": "markdown",
   "metadata": {},
   "source": [
    "**Notas:** El análisis del ROMI diario a lo largo del tiempo revela una alta volatilidad, con numerosos días en los que la inversión en marketing no se recuperó (ROMI < 0), pero también con momentos destacados donde se obtuvo un retorno superior al 100% o incluso 300%. Esta fluctuación sugiere que la eficiencia de las campañas de marketing puede depender en gran medida del día y el tipo de evento promocionado. Identificar los factores que impulsaron los días con ROMI positivo puede permitir replicar estrategias exitosas, mientras que analizar los días negativos puede ayudar a evitar pérdidas innecesarias en futuras campañas."
   ]
  },
  {
   "cell_type": "markdown",
   "metadata": {},
   "source": [
    "### Calcular el CAC "
   ]
  },
  {
   "cell_type": "code",
   "execution_count": 44,
   "metadata": {},
   "outputs": [],
   "source": [
    "# Calcularemos el CAC para varios dispositivos y fuentes de anuncios. \n",
    "merged_data = pd.merge(visitas, pedidos, on='uid', how='inner')\n",
    "\n",
    "merged_data = merged_data[merged_data['buy_ts'].dt.date == merged_data['start_ts'].dt.date]\n",
    "\n",
    "# Agrupar los ingresos por dispositivo y fuente\n",
    "revenue_per_device_source = merged_data.groupby(['device', 'source_id', merged_data['buy_ts'].dt.date])['revenue'].sum().reset_index()\n",
    "revenue_per_device_source.columns = ['device', 'source_id', 'date', 'revenue']\n",
    "\n",
    "# Agrupar costos por fuente y fecha.\n",
    "costs_per_day_source = gastos.groupby(['source_id', gastos['dt'].dt.date])['costs'].sum().reset_index()\n",
    "costs_per_day_source.columns = ['source_id', 'date', 'costs']\n",
    "\n",
    "analysis_data = pd.merge(revenue_per_device_source, costs_per_day_source, on=['source_id', 'date'])\n",
    "\n",
    "# Calcular el número de nuevos clientes por dispositivo y fuente\n",
    "new_clients_per_device_source = merged_data.groupby(['device', 'source_id', merged_data['start_ts'].dt.date])['uid'].nunique().reset_index()\n",
    "new_clients_per_device_source.columns = ['device', 'source_id', 'date', 'new_clients']\n",
    "\n",
    "# Unir los nuevos clientes para calcular el CAC\n",
    "analysis_data = pd.merge(analysis_data, new_clients_per_device_source, on=['device', 'source_id', 'date'])\n",
    "analysis_data['CAC'] = analysis_data['costs'] / analysis_data['new_clients']\n",
    "\n",
    "# Calcular el ROMI\n",
    "analysis_data['ROMI'] = (analysis_data['revenue'] - analysis_data['costs']) / analysis_data['costs'] * 100"
   ]
  },
  {
   "cell_type": "code",
   "execution_count": 45,
   "metadata": {},
   "outputs": [
    {
     "data": {
      "text/html": [
       "<div>\n",
       "<style scoped>\n",
       "    .dataframe tbody tr th:only-of-type {\n",
       "        vertical-align: middle;\n",
       "    }\n",
       "\n",
       "    .dataframe tbody tr th {\n",
       "        vertical-align: top;\n",
       "    }\n",
       "\n",
       "    .dataframe thead th {\n",
       "        text-align: right;\n",
       "    }\n",
       "</style>\n",
       "<table border=\"1\" class=\"dataframe\">\n",
       "  <thead>\n",
       "    <tr style=\"text-align: right;\">\n",
       "      <th></th>\n",
       "      <th>device</th>\n",
       "      <th>source_id</th>\n",
       "      <th>date</th>\n",
       "      <th>revenue</th>\n",
       "      <th>costs</th>\n",
       "      <th>new_clients</th>\n",
       "      <th>CAC</th>\n",
       "      <th>ROMI</th>\n",
       "    </tr>\n",
       "  </thead>\n",
       "  <tbody>\n",
       "    <tr>\n",
       "      <th>0</th>\n",
       "      <td>desktop</td>\n",
       "      <td>1</td>\n",
       "      <td>2017-06-01</td>\n",
       "      <td>173.78</td>\n",
       "      <td>75.20</td>\n",
       "      <td>15</td>\n",
       "      <td>5.013333</td>\n",
       "      <td>131.090426</td>\n",
       "    </tr>\n",
       "    <tr>\n",
       "      <th>1</th>\n",
       "      <td>desktop</td>\n",
       "      <td>1</td>\n",
       "      <td>2017-06-02</td>\n",
       "      <td>72.54</td>\n",
       "      <td>62.25</td>\n",
       "      <td>11</td>\n",
       "      <td>5.659091</td>\n",
       "      <td>16.530120</td>\n",
       "    </tr>\n",
       "    <tr>\n",
       "      <th>2</th>\n",
       "      <td>desktop</td>\n",
       "      <td>1</td>\n",
       "      <td>2017-06-03</td>\n",
       "      <td>18.69</td>\n",
       "      <td>36.53</td>\n",
       "      <td>7</td>\n",
       "      <td>5.218571</td>\n",
       "      <td>-48.836573</td>\n",
       "    </tr>\n",
       "    <tr>\n",
       "      <th>3</th>\n",
       "      <td>desktop</td>\n",
       "      <td>1</td>\n",
       "      <td>2017-06-04</td>\n",
       "      <td>8.66</td>\n",
       "      <td>55.00</td>\n",
       "      <td>3</td>\n",
       "      <td>18.333333</td>\n",
       "      <td>-84.254545</td>\n",
       "    </tr>\n",
       "    <tr>\n",
       "      <th>4</th>\n",
       "      <td>desktop</td>\n",
       "      <td>1</td>\n",
       "      <td>2017-06-05</td>\n",
       "      <td>79.40</td>\n",
       "      <td>57.08</td>\n",
       "      <td>24</td>\n",
       "      <td>2.378333</td>\n",
       "      <td>39.103013</td>\n",
       "    </tr>\n",
       "  </tbody>\n",
       "</table>\n",
       "</div>"
      ],
      "text/plain": [
       "    device  source_id        date  revenue  costs  new_clients        CAC  \\\n",
       "0  desktop          1  2017-06-01   173.78  75.20           15   5.013333   \n",
       "1  desktop          1  2017-06-02    72.54  62.25           11   5.659091   \n",
       "2  desktop          1  2017-06-03    18.69  36.53            7   5.218571   \n",
       "3  desktop          1  2017-06-04     8.66  55.00            3  18.333333   \n",
       "4  desktop          1  2017-06-05    79.40  57.08           24   2.378333   \n",
       "\n",
       "         ROMI  \n",
       "0  131.090426  \n",
       "1   16.530120  \n",
       "2  -48.836573  \n",
       "3  -84.254545  \n",
       "4   39.103013  "
      ]
     },
     "execution_count": 45,
     "metadata": {},
     "output_type": "execute_result"
    }
   ],
   "source": [
    "analysis_data.head()"
   ]
  },
  {
   "cell_type": "code",
   "execution_count": 46,
   "metadata": {},
   "outputs": [
    {
     "data": {
      "image/png": "[encoded data removed]",
      "text/plain": [
       "<Figure size 1400x700 with 1 Axes>"
      ]
     },
     "metadata": {},
     "output_type": "display_data"
    }
   ],
   "source": [
    "# Visualización del CAC\n",
    "plt.figure(figsize=(14, 7))\n",
    "sns.barplot(data=analysis_data, x='device', y='CAC', hue='source_id')\n",
    "plt.title('CAC by Device and Source')\n",
    "plt.xlabel('Device')\n",
    "plt.ylabel('Cost of Acquisition per Customer')\n",
    "plt.legend(title='Source ID')\n",
    "plt.show()\n",
    "\n"
   ]
  },
  {
   "cell_type": "markdown",
   "metadata": {},
   "source": [
    "**Notas:** El análisis del CAC por dispositivo revela que adquirir clientes desde dispositivos móviles (touch) es considerablemente más costoso que desde computadoras (desktop) en todos los canales de adquisición analizados. El caso más extremo es el Source ID 4, con un CAC superior a $130 USD en móvil, lo que representa una inversión muy elevada por cliente. Por otro lado, los canales 9 y 10 presentan un CAC bajo tanto en desktop como en touch, lo que los convierte en opciones atractivas desde una perspectiva de eficiencia. Esta información es fundamental para revisar y optimizar la estrategia de marketing móvil, priorizando los canales con mejor relación costo-beneficio según el tipo de dispositivo."
   ]
  },
  {
   "cell_type": "code",
   "execution_count": 47,
   "metadata": {},
   "outputs": [
    {
     "name": "stdout",
     "output_type": "stream",
     "text": [
      "    device    revenue\n",
      "0  desktop  247078.23\n",
      "1    touch   40955.90\n"
     ]
    }
   ],
   "source": [
    "# Calcular el revenue total por dispositivo\n",
    "revenue_per_device = analysis_data.groupby('device')['revenue'].sum().reset_index()\n",
    "\n",
    "# Mostrar el resultado\n",
    "print(revenue_per_device)"
   ]
  },
  {
   "cell_type": "code",
   "execution_count": 48,
   "metadata": {},
   "outputs": [
    {
     "data": {
      "image/png": "[encoded data removed]",
      "text/plain": [
       "<Figure size 1000x600 with 1 Axes>"
      ]
     },
     "metadata": {},
     "output_type": "display_data"
    }
   ],
   "source": [
    "\n",
    "# Graficar el revenue total por dispositivo\n",
    "plt.figure(figsize=(10, 6))\n",
    "sns.barplot(x='device', y='revenue', data=revenue_per_device, width=0.4, color='salmon', edgecolor='black')\n",
    "plt.title('Total Revenue by Device')\n",
    "plt.xlabel('Device')\n",
    "plt.ylabel('Total Revenue')\n",
    "plt.show()"
   ]
  },
  {
   "cell_type": "markdown",
   "metadata": {},
   "source": [
    "**Notas:** El análisis del ingreso total por dispositivo revela que la mayoría de los ingresos provienen de usuarios que utilizan computadoras de escritorio (desktop), quienes generaron más de $240,000 USD, en comparación con solo $40,000 USD generados desde dispositivos móviles (touch). Esta brecha, combinada con el hecho de que el CAC en móviles es significativamente más alto, indica que los dispositivos de escritorio son mucho más rentables para la empresa."
   ]
  },
  {
   "cell_type": "markdown",
   "metadata": {},
   "source": [
    "## Conclusión"
   ]
  },
  {
   "cell_type": "markdown",
   "metadata": {},
   "source": [
    "### Recomendaciones Estratégicas para la Inversión en Marketing Digital:\n",
    "\n",
    "- Evaluación de Dispositivos: Desktop vs. Touch\n",
    "\n",
    "Observación: Los dispositivos de escritorio generan significativamente más ingresos que los dispositivos táctiles. \n",
    "\n",
    "Recomendación: Incrementar la inversión en marketing para dispositivos de escritorio y mejorar la experiencia de usuario en dispositivos táctiles para aumentar su conversión.\n",
    "\n",
    "\n",
    "- Análisis de Fuentes de Marketing\n",
    "\n",
    "Fuente 3 (Alto CAC en dispositivos táctiles): Evaluar detalladamente el valor del ciclo de vida del cliente (LTV) para determinar si los costos altos se justifican a largo plazo.\n",
    "\n",
    "Fuentes 9 y 10 (Bajo CAC): Estas fuentes muestran una eficiencia de costos prometedora. Considerar aumentar la inversión en estas fuentes después de validar que los clientes adquiridos mantienen un LTV alto.\n",
    "\n",
    "Recomendación: Considerar reasignar parte del presupuesto de la fuente 3 a las fuentes 9 y 10 si el análisis de LTV no justifica los altos costos de CAC. También es vital realizar un análisis de seguimiento para asegurarse de que estos clientes no solo son baratos de adquirir sino que también son valiosos a largo plazo.\n",
    "\n",
    "\n",
    "- Estrategias Basadas en el Retorno de la Inversión (ROMI)\n",
    "\n",
    "Observación: Variabilidad significativa en el ROMI, incluyendo numerosos valores negativos.\n",
    "\n",
    "Recomendación: Realizar una auditoría de marketing para identificar las causas de un ROMI bajo y realizar ajustes en las estrategias, incluyendo la mejora de la segmentación de audiencia, optimización de mensajes, y revisión de los funnels de conversión.\n",
    "\n",
    "\n",
    "- Estas recomendaciones están diseñadas para maximizar la efectividad del marketing digital al enfocarse en dispositivos y fuentes que no solo reducen costos sino que también maximizan los ingresos y la retención de clientes a largo plazo. Se recomienda implementar un sistema de seguimiento y análisis continuo para adaptar y optimizar las estrategias de marketing basadas en datos y rendimiento real."
   ]
  },
  {
   "cell_type": "code",
   "execution_count": null,
   "metadata": {},
   "outputs": [],
   "source": []
  }
 ],
 "metadata": {
  "ExecuteTimeLog": [
   {
    "duration": 8,
    "start_time": "2024-12-31T17:34:29.312Z"
   },
   {
    "duration": 2567,
    "start_time": "2024-12-31T17:38:03.811Z"
   },
   {
    "duration": 900,
    "start_time": "2024-12-31T17:40:21.547Z"
   },
   {
    "duration": 7,
    "start_time": "2024-12-31T17:41:05.108Z"
   },
   {
    "duration": 13,
    "start_time": "2024-12-31T17:41:11.427Z"
   },
   {
    "duration": 10,
    "start_time": "2024-12-31T17:41:17.196Z"
   },
   {
    "duration": 7,
    "start_time": "2024-12-31T17:41:26.963Z"
   },
   {
    "duration": 51,
    "start_time": "2024-12-31T17:42:02.188Z"
   },
   {
    "duration": 447,
    "start_time": "2024-12-31T17:42:35.103Z"
   },
   {
    "duration": 366,
    "start_time": "2024-12-31T17:43:52.208Z"
   },
   {
    "duration": 6,
    "start_time": "2024-12-31T17:47:12.976Z"
   },
   {
    "duration": 11,
    "start_time": "2024-12-31T17:47:26.579Z"
   },
   {
    "duration": 5,
    "start_time": "2024-12-31T17:48:42.449Z"
   },
   {
    "duration": 5,
    "start_time": "2024-12-31T17:49:34.420Z"
   },
   {
    "duration": 4,
    "start_time": "2024-12-31T17:55:02.781Z"
   },
   {
    "duration": 10,
    "start_time": "2024-12-31T17:55:18.229Z"
   },
   {
    "duration": 7,
    "start_time": "2024-12-31T17:55:52.382Z"
   },
   {
    "duration": 10,
    "start_time": "2024-12-31T17:56:17.847Z"
   },
   {
    "duration": 12,
    "start_time": "2024-12-31T17:57:07.337Z"
   },
   {
    "duration": 15,
    "start_time": "2024-12-31T18:00:30.523Z"
   },
   {
    "duration": 16,
    "start_time": "2024-12-31T18:03:11.741Z"
   },
   {
    "duration": 3,
    "start_time": "2024-12-31T18:03:33.396Z"
   },
   {
    "duration": 10,
    "start_time": "2024-12-31T18:03:40.414Z"
   },
   {
    "duration": 14,
    "start_time": "2024-12-31T18:05:24.103Z"
   },
   {
    "duration": 9,
    "start_time": "2024-12-31T18:05:34.646Z"
   },
   {
    "duration": 6,
    "start_time": "2024-12-31T18:07:45.076Z"
   },
   {
    "duration": 16,
    "start_time": "2024-12-31T18:15:27.974Z"
   },
   {
    "duration": 41,
    "start_time": "2024-12-31T18:15:34.293Z"
   },
   {
    "duration": 201,
    "start_time": "2024-12-31T18:16:30.430Z"
   },
   {
    "duration": 2,
    "start_time": "2024-12-31T18:17:29.311Z"
   },
   {
    "duration": 3,
    "start_time": "2024-12-31T18:18:53.745Z"
   },
   {
    "duration": 54,
    "start_time": "2024-12-31T18:19:45.464Z"
   },
   {
    "duration": 57,
    "start_time": "2024-12-31T18:20:18.065Z"
   },
   {
    "duration": 14,
    "start_time": "2024-12-31T18:20:23.800Z"
   },
   {
    "duration": 20,
    "start_time": "2024-12-31T18:20:35.232Z"
   },
   {
    "duration": 10,
    "start_time": "2024-12-31T18:23:15.347Z"
   },
   {
    "duration": 8,
    "start_time": "2024-12-31T18:23:26.618Z"
   },
   {
    "duration": 2564,
    "start_time": "2025-01-02T16:28:58.650Z"
   },
   {
    "duration": 434,
    "start_time": "2025-01-02T16:29:01.216Z"
   },
   {
    "duration": 10,
    "start_time": "2025-01-02T16:29:01.652Z"
   },
   {
    "duration": 9,
    "start_time": "2025-01-02T16:29:01.663Z"
   },
   {
    "duration": 4,
    "start_time": "2025-01-02T16:29:01.676Z"
   },
   {
    "duration": 24,
    "start_time": "2025-01-02T16:29:01.682Z"
   },
   {
    "duration": 7,
    "start_time": "2025-01-02T16:29:01.708Z"
   },
   {
    "duration": 11,
    "start_time": "2025-01-02T16:29:01.717Z"
   },
   {
    "duration": 13,
    "start_time": "2025-01-02T16:29:01.729Z"
   },
   {
    "duration": 9,
    "start_time": "2025-01-02T16:29:01.743Z"
   },
   {
    "duration": 8,
    "start_time": "2025-01-02T16:29:01.754Z"
   },
   {
    "duration": 42,
    "start_time": "2025-01-02T16:29:01.763Z"
   },
   {
    "duration": 43,
    "start_time": "2025-01-02T16:29:01.807Z"
   },
   {
    "duration": 179,
    "start_time": "2025-01-02T16:29:01.853Z"
   },
   {
    "duration": 114,
    "start_time": "2025-01-02T16:29:02.034Z"
   },
   {
    "duration": 218,
    "start_time": "2025-01-02T16:48:49.300Z"
   },
   {
    "duration": 72,
    "start_time": "2025-01-02T16:48:56.699Z"
   },
   {
    "duration": 14,
    "start_time": "2025-01-02T16:49:32.436Z"
   },
   {
    "duration": 415,
    "start_time": "2025-01-02T16:49:55.172Z"
   },
   {
    "duration": 9,
    "start_time": "2025-01-02T16:50:02.471Z"
   },
   {
    "duration": 4,
    "start_time": "2025-01-02T16:51:25.548Z"
   },
   {
    "duration": 6,
    "start_time": "2025-01-02T16:52:21.151Z"
   },
   {
    "duration": 15,
    "start_time": "2025-01-02T16:52:28.094Z"
   },
   {
    "duration": 7,
    "start_time": "2025-01-02T16:52:40.014Z"
   },
   {
    "duration": 6,
    "start_time": "2025-01-02T16:52:44.233Z"
   },
   {
    "duration": 4,
    "start_time": "2025-01-02T16:54:01.295Z"
   },
   {
    "duration": 25,
    "start_time": "2025-01-02T16:54:13.015Z"
   },
   {
    "duration": 8,
    "start_time": "2025-01-02T16:54:20.130Z"
   },
   {
    "duration": 38,
    "start_time": "2025-01-02T16:55:35.064Z"
   },
   {
    "duration": 8,
    "start_time": "2025-01-02T16:55:42.969Z"
   },
   {
    "duration": 57,
    "start_time": "2025-01-02T16:56:45.233Z"
   },
   {
    "duration": 9,
    "start_time": "2025-01-02T16:56:52.577Z"
   },
   {
    "duration": 122,
    "start_time": "2025-01-02T16:58:37.019Z"
   },
   {
    "duration": 9,
    "start_time": "2025-01-02T16:58:45.762Z"
   },
   {
    "duration": 199,
    "start_time": "2025-01-02T17:03:06.304Z"
   },
   {
    "duration": 4,
    "start_time": "2025-01-02T17:03:10.438Z"
   },
   {
    "duration": 3,
    "start_time": "2025-01-02T17:03:29.950Z"
   },
   {
    "duration": 192,
    "start_time": "2025-01-02T17:03:50.759Z"
   },
   {
    "duration": 14,
    "start_time": "2025-01-02T17:03:51.691Z"
   },
   {
    "duration": 7,
    "start_time": "2025-01-02T17:03:59.374Z"
   },
   {
    "duration": 199,
    "start_time": "2025-01-02T17:04:13.399Z"
   },
   {
    "duration": 4,
    "start_time": "2025-01-02T17:04:17.695Z"
   },
   {
    "duration": 196,
    "start_time": "2025-01-02T17:04:32.015Z"
   },
   {
    "duration": 5,
    "start_time": "2025-01-02T17:04:32.854Z"
   },
   {
    "duration": 257,
    "start_time": "2025-01-02T17:09:10.714Z"
   },
   {
    "duration": 5,
    "start_time": "2025-01-02T17:09:16.470Z"
   },
   {
    "duration": 310,
    "start_time": "2025-01-02T17:11:08.095Z"
   },
   {
    "duration": 3,
    "start_time": "2025-01-02T17:12:47.292Z"
   },
   {
    "duration": 3,
    "start_time": "2025-01-02T17:13:19.334Z"
   },
   {
    "duration": 4,
    "start_time": "2025-01-02T17:13:25.997Z"
   },
   {
    "duration": 6,
    "start_time": "2025-01-02T17:13:41.693Z"
   },
   {
    "duration": 3,
    "start_time": "2025-01-02T17:14:14.974Z"
   },
   {
    "duration": 2,
    "start_time": "2025-01-02T17:16:36.106Z"
   },
   {
    "duration": 28,
    "start_time": "2025-01-02T17:17:52.398Z"
   },
   {
    "duration": 26,
    "start_time": "2025-01-02T17:18:11.744Z"
   },
   {
    "duration": 23,
    "start_time": "2025-01-02T17:18:31.800Z"
   },
   {
    "duration": 6,
    "start_time": "2025-01-02T17:18:38.841Z"
   },
   {
    "duration": 21,
    "start_time": "2025-01-02T17:18:53.653Z"
   },
   {
    "duration": 4,
    "start_time": "2025-01-02T17:18:54.522Z"
   },
   {
    "duration": 22,
    "start_time": "2025-01-02T17:19:00.449Z"
   },
   {
    "duration": 5,
    "start_time": "2025-01-02T17:19:01.265Z"
   },
   {
    "duration": 21,
    "start_time": "2025-01-02T17:20:53.395Z"
   },
   {
    "duration": 21,
    "start_time": "2025-01-02T17:27:39.376Z"
   },
   {
    "duration": 4,
    "start_time": "2025-01-02T17:27:46.648Z"
   },
   {
    "duration": 20,
    "start_time": "2025-01-02T17:28:27.377Z"
   },
   {
    "duration": 4,
    "start_time": "2025-01-02T17:28:30.922Z"
   },
   {
    "duration": 4,
    "start_time": "2025-01-02T17:30:22.034Z"
   },
   {
    "duration": 2721,
    "start_time": "2025-01-02T21:02:49.632Z"
   },
   {
    "duration": 487,
    "start_time": "2025-01-02T21:02:52.356Z"
   },
   {
    "duration": 14,
    "start_time": "2025-01-02T21:02:52.845Z"
   },
   {
    "duration": 12,
    "start_time": "2025-01-02T21:02:52.861Z"
   },
   {
    "duration": 5,
    "start_time": "2025-01-02T21:02:52.877Z"
   },
   {
    "duration": 25,
    "start_time": "2025-01-02T21:02:52.884Z"
   },
   {
    "duration": 8,
    "start_time": "2025-01-02T21:02:52.911Z"
   },
   {
    "duration": 12,
    "start_time": "2025-01-02T21:02:52.922Z"
   },
   {
    "duration": 18,
    "start_time": "2025-01-02T21:02:52.936Z"
   },
   {
    "duration": 16,
    "start_time": "2025-01-02T21:02:52.956Z"
   },
   {
    "duration": 40,
    "start_time": "2025-01-02T21:02:52.974Z"
   },
   {
    "duration": 9,
    "start_time": "2025-01-02T21:02:53.016Z"
   },
   {
    "duration": 45,
    "start_time": "2025-01-02T21:02:53.028Z"
   },
   {
    "duration": 248,
    "start_time": "2025-01-02T21:02:53.077Z"
   },
   {
    "duration": 164,
    "start_time": "2025-01-02T21:02:53.333Z"
   },
   {
    "duration": 464,
    "start_time": "2025-01-02T21:02:53.499Z"
   },
   {
    "duration": 5,
    "start_time": "2025-01-02T21:02:53.965Z"
   },
   {
    "duration": 47,
    "start_time": "2025-01-02T21:02:53.973Z"
   },
   {
    "duration": 23,
    "start_time": "2025-01-02T21:04:49.340Z"
   },
   {
    "duration": 9,
    "start_time": "2025-01-02T21:13:27.593Z"
   },
   {
    "duration": 12,
    "start_time": "2025-01-02T21:13:56.296Z"
   },
   {
    "duration": 13,
    "start_time": "2025-01-02T21:14:43.369Z"
   },
   {
    "duration": 8,
    "start_time": "2025-01-02T21:18:34.604Z"
   },
   {
    "duration": 10,
    "start_time": "2025-01-02T21:18:45.709Z"
   },
   {
    "duration": 724,
    "start_time": "2025-01-02T21:19:00.731Z"
   },
   {
    "duration": 8,
    "start_time": "2025-01-02T21:19:05.196Z"
   },
   {
    "duration": 11,
    "start_time": "2025-01-02T21:19:18.876Z"
   },
   {
    "duration": 63,
    "start_time": "2025-01-02T21:31:04.157Z"
   },
   {
    "duration": 64,
    "start_time": "2025-01-02T21:31:59.495Z"
   },
   {
    "duration": 72,
    "start_time": "2025-01-02T21:33:18.527Z"
   },
   {
    "duration": 67,
    "start_time": "2025-01-02T21:33:23.519Z"
   },
   {
    "duration": 2478,
    "start_time": "2025-01-03T00:49:21.291Z"
   },
   {
    "duration": 426,
    "start_time": "2025-01-03T00:49:23.771Z"
   },
   {
    "duration": 13,
    "start_time": "2025-01-03T00:49:24.199Z"
   },
   {
    "duration": 9,
    "start_time": "2025-01-03T00:49:24.214Z"
   },
   {
    "duration": 4,
    "start_time": "2025-01-03T00:49:24.225Z"
   },
   {
    "duration": 4,
    "start_time": "2025-01-03T00:49:24.230Z"
   },
   {
    "duration": 7,
    "start_time": "2025-01-03T00:49:24.235Z"
   },
   {
    "duration": 10,
    "start_time": "2025-01-03T00:49:24.243Z"
   },
   {
    "duration": 11,
    "start_time": "2025-01-03T00:49:24.255Z"
   },
   {
    "duration": 46,
    "start_time": "2025-01-03T00:49:24.269Z"
   },
   {
    "duration": 8,
    "start_time": "2025-01-03T00:49:24.318Z"
   },
   {
    "duration": 6,
    "start_time": "2025-01-03T00:49:24.327Z"
   },
   {
    "duration": 42,
    "start_time": "2025-01-03T00:49:24.335Z"
   },
   {
    "duration": 179,
    "start_time": "2025-01-03T00:49:24.378Z"
   },
   {
    "duration": 118,
    "start_time": "2025-01-03T00:49:24.559Z"
   },
   {
    "duration": 317,
    "start_time": "2025-01-03T00:49:24.679Z"
   },
   {
    "duration": 10,
    "start_time": "2025-01-03T00:49:24.998Z"
   },
   {
    "duration": 25,
    "start_time": "2025-01-03T00:49:25.010Z"
   },
   {
    "duration": 10,
    "start_time": "2025-01-03T00:49:25.036Z"
   },
   {
    "duration": 84,
    "start_time": "2025-01-03T00:49:25.047Z"
   },
   {
    "duration": 2601,
    "start_time": "2025-01-03T05:11:31.034Z"
   },
   {
    "duration": 461,
    "start_time": "2025-01-03T05:11:33.638Z"
   },
   {
    "duration": 10,
    "start_time": "2025-01-03T05:11:34.101Z"
   },
   {
    "duration": 9,
    "start_time": "2025-01-03T05:11:34.113Z"
   },
   {
    "duration": 4,
    "start_time": "2025-01-03T05:11:34.126Z"
   },
   {
    "duration": 4,
    "start_time": "2025-01-03T05:11:34.131Z"
   },
   {
    "duration": 7,
    "start_time": "2025-01-03T05:11:34.137Z"
   },
   {
    "duration": 45,
    "start_time": "2025-01-03T05:11:34.146Z"
   },
   {
    "duration": 12,
    "start_time": "2025-01-03T05:11:34.192Z"
   },
   {
    "duration": 10,
    "start_time": "2025-01-03T05:11:34.205Z"
   },
   {
    "duration": 7,
    "start_time": "2025-01-03T05:11:34.217Z"
   },
   {
    "duration": 6,
    "start_time": "2025-01-03T05:11:34.226Z"
   },
   {
    "duration": 61,
    "start_time": "2025-01-03T05:11:34.234Z"
   },
   {
    "duration": 171,
    "start_time": "2025-01-03T05:11:34.298Z"
   },
   {
    "duration": 116,
    "start_time": "2025-01-03T05:11:34.471Z"
   },
   {
    "duration": 319,
    "start_time": "2025-01-03T05:11:34.588Z"
   },
   {
    "duration": 3,
    "start_time": "2025-01-03T05:11:34.909Z"
   },
   {
    "duration": 24,
    "start_time": "2025-01-03T05:11:34.914Z"
   },
   {
    "duration": 10,
    "start_time": "2025-01-03T05:11:34.939Z"
   },
   {
    "duration": 96,
    "start_time": "2025-01-03T05:11:34.951Z"
   },
   {
    "duration": 2455,
    "start_time": "2025-01-03T18:16:47.639Z"
   },
   {
    "duration": 421,
    "start_time": "2025-01-03T18:16:50.096Z"
   },
   {
    "duration": 9,
    "start_time": "2025-01-03T18:16:50.519Z"
   },
   {
    "duration": 10,
    "start_time": "2025-01-03T18:16:50.530Z"
   },
   {
    "duration": 4,
    "start_time": "2025-01-03T18:16:50.542Z"
   },
   {
    "duration": 4,
    "start_time": "2025-01-03T18:16:50.547Z"
   },
   {
    "duration": 6,
    "start_time": "2025-01-03T18:16:50.571Z"
   },
   {
    "duration": 9,
    "start_time": "2025-01-03T18:16:50.578Z"
   },
   {
    "duration": 11,
    "start_time": "2025-01-03T18:16:50.588Z"
   },
   {
    "duration": 9,
    "start_time": "2025-01-03T18:16:50.602Z"
   },
   {
    "duration": 9,
    "start_time": "2025-01-03T18:16:50.613Z"
   },
   {
    "duration": 7,
    "start_time": "2025-01-03T18:16:50.623Z"
   },
   {
    "duration": 36,
    "start_time": "2025-01-03T18:16:50.671Z"
   },
   {
    "duration": 166,
    "start_time": "2025-01-03T18:16:50.709Z"
   },
   {
    "duration": 114,
    "start_time": "2025-01-03T18:16:50.877Z"
   },
   {
    "duration": 325,
    "start_time": "2025-01-03T18:16:50.992Z"
   },
   {
    "duration": 4,
    "start_time": "2025-01-03T18:16:51.319Z"
   },
   {
    "duration": 24,
    "start_time": "2025-01-03T18:16:51.325Z"
   },
   {
    "duration": 27,
    "start_time": "2025-01-03T18:16:51.350Z"
   },
   {
    "duration": 68,
    "start_time": "2025-01-03T18:16:51.379Z"
   },
   {
    "duration": 9,
    "start_time": "2025-01-03T18:33:19.874Z"
   },
   {
    "duration": 13,
    "start_time": "2025-01-03T18:33:26.673Z"
   },
   {
    "duration": 10,
    "start_time": "2025-01-03T18:34:50.675Z"
   },
   {
    "duration": 12,
    "start_time": "2025-01-03T18:34:59.066Z"
   },
   {
    "duration": 15,
    "start_time": "2025-01-03T18:36:05.939Z"
   },
   {
    "duration": 562,
    "start_time": "2025-01-03T18:36:14.835Z"
   },
   {
    "duration": 26,
    "start_time": "2025-01-03T18:38:22.917Z"
   },
   {
    "duration": 26,
    "start_time": "2025-01-03T18:39:59.102Z"
   },
   {
    "duration": 27,
    "start_time": "2025-01-03T18:40:25.151Z"
   },
   {
    "duration": 191,
    "start_time": "2025-01-03T18:40:28.975Z"
   },
   {
    "duration": 24,
    "start_time": "2025-01-03T18:40:32.584Z"
   },
   {
    "duration": 36,
    "start_time": "2025-01-03T18:40:50.495Z"
   },
   {
    "duration": 838,
    "start_time": "2025-01-03T18:41:02.816Z"
   },
   {
    "duration": 368,
    "start_time": "2025-01-03T18:41:03.656Z"
   },
   {
    "duration": 10,
    "start_time": "2025-01-03T18:41:04.025Z"
   },
   {
    "duration": 10,
    "start_time": "2025-01-03T18:41:04.037Z"
   },
   {
    "duration": 20,
    "start_time": "2025-01-03T18:41:04.050Z"
   },
   {
    "duration": 4,
    "start_time": "2025-01-03T18:41:04.071Z"
   },
   {
    "duration": 8,
    "start_time": "2025-01-03T18:41:04.077Z"
   },
   {
    "duration": 11,
    "start_time": "2025-01-03T18:41:04.088Z"
   },
   {
    "duration": 13,
    "start_time": "2025-01-03T18:41:04.100Z"
   },
   {
    "duration": 10,
    "start_time": "2025-01-03T18:41:04.115Z"
   },
   {
    "duration": 8,
    "start_time": "2025-01-03T18:41:04.127Z"
   },
   {
    "duration": 38,
    "start_time": "2025-01-03T18:41:04.137Z"
   },
   {
    "duration": 43,
    "start_time": "2025-01-03T18:41:04.177Z"
   },
   {
    "duration": 181,
    "start_time": "2025-01-03T18:41:04.223Z"
   },
   {
    "duration": 119,
    "start_time": "2025-01-03T18:41:04.406Z"
   },
   {
    "duration": 326,
    "start_time": "2025-01-03T18:41:04.526Z"
   },
   {
    "duration": 3,
    "start_time": "2025-01-03T18:41:04.854Z"
   },
   {
    "duration": 34,
    "start_time": "2025-01-03T18:41:04.858Z"
   },
   {
    "duration": 11,
    "start_time": "2025-01-03T18:41:04.894Z"
   },
   {
    "duration": 89,
    "start_time": "2025-01-03T18:41:04.907Z"
   },
   {
    "duration": 9,
    "start_time": "2025-01-03T18:41:04.998Z"
   },
   {
    "duration": 12,
    "start_time": "2025-01-03T18:41:59.304Z"
   },
   {
    "duration": 16,
    "start_time": "2025-01-03T18:45:42.045Z"
   },
   {
    "duration": 592,
    "start_time": "2025-01-03T18:45:46.167Z"
   },
   {
    "duration": 20,
    "start_time": "2025-01-03T18:48:34.097Z"
   },
   {
    "duration": 11,
    "start_time": "2025-01-03T18:48:39.675Z"
   },
   {
    "duration": 19,
    "start_time": "2025-01-03T18:49:21.431Z"
   },
   {
    "duration": 12,
    "start_time": "2025-01-03T18:49:24.441Z"
   },
   {
    "duration": 18,
    "start_time": "2025-01-03T18:49:37.058Z"
   },
   {
    "duration": 17,
    "start_time": "2025-01-03T18:49:47.329Z"
   },
   {
    "duration": 9,
    "start_time": "2025-01-03T18:50:08.514Z"
   },
   {
    "duration": 20,
    "start_time": "2025-01-03T18:50:16.461Z"
   },
   {
    "duration": 10,
    "start_time": "2025-01-03T18:50:29.723Z"
   },
   {
    "duration": 18,
    "start_time": "2025-01-03T18:50:34.371Z"
   },
   {
    "duration": 12,
    "start_time": "2025-01-03T18:50:57.307Z"
   },
   {
    "duration": 11,
    "start_time": "2025-01-03T18:51:52.467Z"
   },
   {
    "duration": 17,
    "start_time": "2025-01-03T18:51:58.547Z"
   },
   {
    "duration": 789,
    "start_time": "2025-01-03T18:52:17.074Z"
   },
   {
    "duration": 346,
    "start_time": "2025-01-03T18:52:17.865Z"
   },
   {
    "duration": 10,
    "start_time": "2025-01-03T18:52:18.213Z"
   },
   {
    "duration": 10,
    "start_time": "2025-01-03T18:52:18.224Z"
   },
   {
    "duration": 4,
    "start_time": "2025-01-03T18:52:18.236Z"
   },
   {
    "duration": 3,
    "start_time": "2025-01-03T18:52:18.242Z"
   },
   {
    "duration": 6,
    "start_time": "2025-01-03T18:52:18.271Z"
   },
   {
    "duration": 10,
    "start_time": "2025-01-03T18:52:18.278Z"
   },
   {
    "duration": 13,
    "start_time": "2025-01-03T18:52:18.290Z"
   },
   {
    "duration": 13,
    "start_time": "2025-01-03T18:52:18.305Z"
   },
   {
    "duration": 10,
    "start_time": "2025-01-03T18:52:18.320Z"
   },
   {
    "duration": 40,
    "start_time": "2025-01-03T18:52:18.331Z"
   },
   {
    "duration": 42,
    "start_time": "2025-01-03T18:52:18.373Z"
   },
   {
    "duration": 171,
    "start_time": "2025-01-03T18:52:18.417Z"
   },
   {
    "duration": 114,
    "start_time": "2025-01-03T18:52:18.590Z"
   },
   {
    "duration": 314,
    "start_time": "2025-01-03T18:52:18.705Z"
   },
   {
    "duration": 3,
    "start_time": "2025-01-03T18:52:19.020Z"
   },
   {
    "duration": 24,
    "start_time": "2025-01-03T18:52:19.025Z"
   },
   {
    "duration": 26,
    "start_time": "2025-01-03T18:52:19.050Z"
   },
   {
    "duration": 68,
    "start_time": "2025-01-03T18:52:19.078Z"
   },
   {
    "duration": 27,
    "start_time": "2025-01-03T18:52:19.147Z"
   },
   {
    "duration": 20,
    "start_time": "2025-01-03T18:53:09.128Z"
   },
   {
    "duration": 11,
    "start_time": "2025-01-03T18:53:13.474Z"
   },
   {
    "duration": 19,
    "start_time": "2025-01-03T18:54:38.849Z"
   },
   {
    "duration": 11,
    "start_time": "2025-01-03T18:54:41.593Z"
   },
   {
    "duration": 792,
    "start_time": "2025-01-03T18:54:51.767Z"
   },
   {
    "duration": 350,
    "start_time": "2025-01-03T18:54:52.561Z"
   },
   {
    "duration": 9,
    "start_time": "2025-01-03T18:54:52.914Z"
   },
   {
    "duration": 9,
    "start_time": "2025-01-03T18:54:52.925Z"
   },
   {
    "duration": 4,
    "start_time": "2025-01-03T18:54:52.937Z"
   },
   {
    "duration": 4,
    "start_time": "2025-01-03T18:54:52.942Z"
   },
   {
    "duration": 6,
    "start_time": "2025-01-03T18:54:52.971Z"
   },
   {
    "duration": 9,
    "start_time": "2025-01-03T18:54:52.979Z"
   },
   {
    "duration": 11,
    "start_time": "2025-01-03T18:54:52.990Z"
   },
   {
    "duration": 10,
    "start_time": "2025-01-03T18:54:53.003Z"
   },
   {
    "duration": 7,
    "start_time": "2025-01-03T18:54:53.015Z"
   },
   {
    "duration": 6,
    "start_time": "2025-01-03T18:54:53.024Z"
   },
   {
    "duration": 73,
    "start_time": "2025-01-03T18:54:53.031Z"
   },
   {
    "duration": 188,
    "start_time": "2025-01-03T18:54:53.108Z"
   },
   {
    "duration": 116,
    "start_time": "2025-01-03T18:54:53.298Z"
   },
   {
    "duration": 318,
    "start_time": "2025-01-03T18:54:53.416Z"
   },
   {
    "duration": 4,
    "start_time": "2025-01-03T18:54:53.736Z"
   },
   {
    "duration": 37,
    "start_time": "2025-01-03T18:54:53.742Z"
   },
   {
    "duration": 10,
    "start_time": "2025-01-03T18:54:53.780Z"
   },
   {
    "duration": 80,
    "start_time": "2025-01-03T18:54:53.791Z"
   },
   {
    "duration": 17,
    "start_time": "2025-01-03T18:54:53.872Z"
   },
   {
    "duration": 12,
    "start_time": "2025-01-03T18:54:53.890Z"
   },
   {
    "duration": 10,
    "start_time": "2025-01-03T18:55:08.893Z"
   },
   {
    "duration": 273,
    "start_time": "2025-01-03T19:04:41.427Z"
   },
   {
    "duration": 70,
    "start_time": "2025-01-03T19:07:40.531Z"
   },
   {
    "duration": 71,
    "start_time": "2025-01-03T19:08:07.412Z"
   },
   {
    "duration": 68,
    "start_time": "2025-01-03T19:08:25.052Z"
   },
   {
    "duration": 83,
    "start_time": "2025-01-03T19:09:22.621Z"
   },
   {
    "duration": 141,
    "start_time": "2025-01-03T19:09:31.213Z"
   },
   {
    "duration": 17,
    "start_time": "2025-01-03T19:09:36.173Z"
   },
   {
    "duration": 2563,
    "start_time": "2025-01-03T21:26:10.292Z"
   },
   {
    "duration": 408,
    "start_time": "2025-01-03T21:26:12.857Z"
   },
   {
    "duration": 9,
    "start_time": "2025-01-03T21:26:13.268Z"
   },
   {
    "duration": 10,
    "start_time": "2025-01-03T21:26:13.278Z"
   },
   {
    "duration": 5,
    "start_time": "2025-01-03T21:26:13.306Z"
   },
   {
    "duration": 4,
    "start_time": "2025-01-03T21:26:13.312Z"
   },
   {
    "duration": 7,
    "start_time": "2025-01-03T21:26:13.318Z"
   },
   {
    "duration": 10,
    "start_time": "2025-01-03T21:26:13.326Z"
   },
   {
    "duration": 13,
    "start_time": "2025-01-03T21:26:13.338Z"
   },
   {
    "duration": 10,
    "start_time": "2025-01-03T21:26:13.352Z"
   },
   {
    "duration": 45,
    "start_time": "2025-01-03T21:26:13.364Z"
   },
   {
    "duration": 10,
    "start_time": "2025-01-03T21:26:13.410Z"
   },
   {
    "duration": 41,
    "start_time": "2025-01-03T21:26:13.422Z"
   },
   {
    "duration": 188,
    "start_time": "2025-01-03T21:26:13.467Z"
   },
   {
    "duration": 115,
    "start_time": "2025-01-03T21:26:13.657Z"
   },
   {
    "duration": 318,
    "start_time": "2025-01-03T21:26:13.774Z"
   },
   {
    "duration": 12,
    "start_time": "2025-01-03T21:26:14.094Z"
   },
   {
    "duration": 24,
    "start_time": "2025-01-03T21:26:14.107Z"
   },
   {
    "duration": 12,
    "start_time": "2025-01-03T21:26:14.133Z"
   },
   {
    "duration": 86,
    "start_time": "2025-01-03T21:26:14.149Z"
   },
   {
    "duration": 151,
    "start_time": "2025-01-03T21:26:14.237Z"
   },
   {
    "duration": 21,
    "start_time": "2025-01-03T21:26:14.390Z"
   },
   {
    "duration": 143,
    "start_time": "2025-01-03T21:31:19.546Z"
   },
   {
    "duration": 88,
    "start_time": "2025-01-03T21:33:02.019Z"
   },
   {
    "duration": 4,
    "start_time": "2025-01-03T21:34:35.023Z"
   },
   {
    "duration": 3,
    "start_time": "2025-01-03T21:34:46.907Z"
   },
   {
    "duration": 4,
    "start_time": "2025-01-03T21:34:57.779Z"
   },
   {
    "duration": 89,
    "start_time": "2025-01-03T21:35:02.490Z"
   },
   {
    "duration": 3,
    "start_time": "2025-01-03T21:35:21.381Z"
   },
   {
    "duration": 5,
    "start_time": "2025-01-03T21:35:24.842Z"
   },
   {
    "duration": 282,
    "start_time": "2025-01-03T21:35:28.995Z"
   },
   {
    "duration": 5,
    "start_time": "2025-01-03T21:35:30.317Z"
   },
   {
    "duration": 7,
    "start_time": "2025-01-03T21:35:30.859Z"
   },
   {
    "duration": 151,
    "start_time": "2025-01-03T21:35:43.787Z"
   },
   {
    "duration": 7,
    "start_time": "2025-01-03T21:36:01.652Z"
   },
   {
    "duration": 135,
    "start_time": "2025-01-03T21:36:04.179Z"
   },
   {
    "duration": 370,
    "start_time": "2025-01-03T21:40:38.511Z"
   },
   {
    "duration": 703,
    "start_time": "2025-01-03T21:40:52.447Z"
   },
   {
    "duration": 226,
    "start_time": "2025-01-03T21:42:44.772Z"
   },
   {
    "duration": 12,
    "start_time": "2025-01-03T21:44:04.770Z"
   },
   {
    "duration": 12,
    "start_time": "2025-01-03T21:44:10.025Z"
   },
   {
    "duration": 7,
    "start_time": "2025-01-03T21:44:16.474Z"
   },
   {
    "duration": 18,
    "start_time": "2025-01-03T21:50:41.350Z"
   },
   {
    "duration": 183,
    "start_time": "2025-01-03T21:53:54.393Z"
   },
   {
    "duration": 5,
    "start_time": "2025-01-03T21:54:00.331Z"
   },
   {
    "duration": 2,
    "start_time": "2025-01-03T21:54:10.065Z"
   },
   {
    "duration": 194,
    "start_time": "2025-01-03T21:55:02.402Z"
   },
   {
    "duration": 154,
    "start_time": "2025-01-03T21:56:03.619Z"
   },
   {
    "duration": 154,
    "start_time": "2025-01-03T21:57:47.260Z"
   },
   {
    "duration": 154,
    "start_time": "2025-01-03T21:58:17.185Z"
   },
   {
    "duration": 4,
    "start_time": "2025-01-03T21:58:28.020Z"
   },
   {
    "duration": 135,
    "start_time": "2025-01-03T21:58:39.733Z"
   },
   {
    "duration": 168,
    "start_time": "2025-01-03T22:01:42.104Z"
   },
   {
    "duration": 12,
    "start_time": "2025-01-03T22:12:09.159Z"
   },
   {
    "duration": 16,
    "start_time": "2025-01-03T22:12:20.983Z"
   },
   {
    "duration": 134,
    "start_time": "2025-01-03T22:15:35.010Z"
   },
   {
    "duration": 17,
    "start_time": "2025-01-03T22:15:37.330Z"
   },
   {
    "duration": 144,
    "start_time": "2025-01-03T22:16:23.682Z"
   },
   {
    "duration": 153,
    "start_time": "2025-01-03T22:16:26.730Z"
   },
   {
    "duration": 17,
    "start_time": "2025-01-03T22:16:27.067Z"
   },
   {
    "duration": 18,
    "start_time": "2025-01-03T22:16:46.779Z"
   },
   {
    "duration": 8,
    "start_time": "2025-01-03T22:17:09.884Z"
   },
   {
    "duration": 130,
    "start_time": "2025-01-03T22:17:28.035Z"
   },
   {
    "duration": 144,
    "start_time": "2025-01-03T22:17:42.196Z"
   },
   {
    "duration": 20,
    "start_time": "2025-01-03T22:17:50.068Z"
   },
   {
    "duration": 820,
    "start_time": "2025-01-03T22:17:56.454Z"
   },
   {
    "duration": 355,
    "start_time": "2025-01-03T22:17:57.276Z"
   },
   {
    "duration": 8,
    "start_time": "2025-01-03T22:17:57.633Z"
   },
   {
    "duration": 9,
    "start_time": "2025-01-03T22:17:57.643Z"
   },
   {
    "duration": 4,
    "start_time": "2025-01-03T22:17:57.654Z"
   },
   {
    "duration": 3,
    "start_time": "2025-01-03T22:17:57.659Z"
   },
   {
    "duration": 6,
    "start_time": "2025-01-03T22:17:57.664Z"
   },
   {
    "duration": 38,
    "start_time": "2025-01-03T22:17:57.671Z"
   },
   {
    "duration": 11,
    "start_time": "2025-01-03T22:17:57.710Z"
   },
   {
    "duration": 9,
    "start_time": "2025-01-03T22:17:57.723Z"
   },
   {
    "duration": 8,
    "start_time": "2025-01-03T22:17:57.734Z"
   },
   {
    "duration": 7,
    "start_time": "2025-01-03T22:17:57.744Z"
   },
   {
    "duration": 68,
    "start_time": "2025-01-03T22:17:57.752Z"
   },
   {
    "duration": 156,
    "start_time": "2025-01-03T22:17:57.823Z"
   },
   {
    "duration": 113,
    "start_time": "2025-01-03T22:17:57.981Z"
   },
   {
    "duration": 321,
    "start_time": "2025-01-03T22:17:58.095Z"
   },
   {
    "duration": 6,
    "start_time": "2025-01-03T22:17:58.418Z"
   },
   {
    "duration": 181,
    "start_time": "2025-01-03T22:17:58.425Z"
   },
   {
    "duration": 168,
    "start_time": "2025-01-03T22:17:58.608Z"
   },
   {
    "duration": 218,
    "start_time": "2025-01-03T22:17:58.778Z"
   },
   {
    "duration": 30,
    "start_time": "2025-01-03T22:17:58.998Z"
   },
   {
    "duration": 11,
    "start_time": "2025-01-03T22:17:59.029Z"
   },
   {
    "duration": 81,
    "start_time": "2025-01-03T22:17:59.042Z"
   },
   {
    "duration": 141,
    "start_time": "2025-01-03T22:17:59.125Z"
   },
   {
    "duration": 17,
    "start_time": "2025-01-03T22:17:59.268Z"
   },
   {
    "duration": 130,
    "start_time": "2025-01-03T22:18:58.321Z"
   },
   {
    "duration": 16,
    "start_time": "2025-01-03T22:19:00.354Z"
   },
   {
    "duration": 133,
    "start_time": "2025-01-03T22:19:36.322Z"
   },
   {
    "duration": 18,
    "start_time": "2025-01-03T22:19:39.378Z"
   },
   {
    "duration": 9,
    "start_time": "2025-01-03T22:20:35.523Z"
   },
   {
    "duration": 17,
    "start_time": "2025-01-03T22:20:47.859Z"
   },
   {
    "duration": 217,
    "start_time": "2025-01-03T22:21:52.123Z"
   },
   {
    "duration": 19,
    "start_time": "2025-01-03T22:21:56.476Z"
   },
   {
    "duration": 866,
    "start_time": "2025-01-03T22:22:24.122Z"
   },
   {
    "duration": 359,
    "start_time": "2025-01-03T22:22:24.991Z"
   },
   {
    "duration": 9,
    "start_time": "2025-01-03T22:22:25.351Z"
   },
   {
    "duration": 8,
    "start_time": "2025-01-03T22:22:25.362Z"
   },
   {
    "duration": 4,
    "start_time": "2025-01-03T22:22:25.372Z"
   },
   {
    "duration": 3,
    "start_time": "2025-01-03T22:22:25.377Z"
   },
   {
    "duration": 26,
    "start_time": "2025-01-03T22:22:25.382Z"
   },
   {
    "duration": 9,
    "start_time": "2025-01-03T22:22:25.410Z"
   },
   {
    "duration": 12,
    "start_time": "2025-01-03T22:22:25.421Z"
   },
   {
    "duration": 10,
    "start_time": "2025-01-03T22:22:25.434Z"
   },
   {
    "duration": 9,
    "start_time": "2025-01-03T22:22:25.446Z"
   },
   {
    "duration": 8,
    "start_time": "2025-01-03T22:22:25.457Z"
   },
   {
    "duration": 68,
    "start_time": "2025-01-03T22:22:25.466Z"
   },
   {
    "duration": 159,
    "start_time": "2025-01-03T22:22:25.538Z"
   },
   {
    "duration": 109,
    "start_time": "2025-01-03T22:22:25.700Z"
   },
   {
    "duration": 317,
    "start_time": "2025-01-03T22:22:25.810Z"
   },
   {
    "duration": 5,
    "start_time": "2025-01-03T22:22:26.128Z"
   },
   {
    "duration": 167,
    "start_time": "2025-01-03T22:22:26.135Z"
   },
   {
    "duration": 165,
    "start_time": "2025-01-03T22:22:26.304Z"
   },
   {
    "duration": 205,
    "start_time": "2025-01-03T22:22:26.471Z"
   },
   {
    "duration": 28,
    "start_time": "2025-01-03T22:22:26.679Z"
   },
   {
    "duration": 12,
    "start_time": "2025-01-03T22:22:26.708Z"
   },
   {
    "duration": 63,
    "start_time": "2025-01-03T22:22:26.722Z"
   },
   {
    "duration": 245,
    "start_time": "2025-01-03T22:22:26.787Z"
   },
   {
    "duration": 0,
    "start_time": "2025-01-03T22:22:27.033Z"
   },
   {
    "duration": 24,
    "start_time": "2025-01-03T22:22:50.156Z"
   },
   {
    "duration": 199,
    "start_time": "2025-01-03T22:23:03.220Z"
   },
   {
    "duration": 18,
    "start_time": "2025-01-03T22:23:04.876Z"
   },
   {
    "duration": 636,
    "start_time": "2025-01-03T22:25:43.599Z"
   },
   {
    "duration": 214,
    "start_time": "2025-01-03T22:26:36.584Z"
   },
   {
    "duration": 20,
    "start_time": "2025-01-03T22:26:40.341Z"
   },
   {
    "duration": 287,
    "start_time": "2025-01-03T22:26:44.119Z"
   },
   {
    "duration": 811,
    "start_time": "2025-01-03T22:26:55.266Z"
   },
   {
    "duration": 342,
    "start_time": "2025-01-03T22:26:56.079Z"
   },
   {
    "duration": 9,
    "start_time": "2025-01-03T22:26:56.423Z"
   },
   {
    "duration": 9,
    "start_time": "2025-01-03T22:26:56.434Z"
   },
   {
    "duration": 4,
    "start_time": "2025-01-03T22:26:56.446Z"
   },
   {
    "duration": 4,
    "start_time": "2025-01-03T22:26:56.452Z"
   },
   {
    "duration": 8,
    "start_time": "2025-01-03T22:26:56.458Z"
   },
   {
    "duration": 42,
    "start_time": "2025-01-03T22:26:56.468Z"
   },
   {
    "duration": 16,
    "start_time": "2025-01-03T22:26:56.512Z"
   },
   {
    "duration": 15,
    "start_time": "2025-01-03T22:26:56.531Z"
   },
   {
    "duration": 11,
    "start_time": "2025-01-03T22:26:56.548Z"
   },
   {
    "duration": 9,
    "start_time": "2025-01-03T22:26:56.561Z"
   },
   {
    "duration": 85,
    "start_time": "2025-01-03T22:26:56.572Z"
   },
   {
    "duration": 245,
    "start_time": "2025-01-03T22:26:56.662Z"
   },
   {
    "duration": 131,
    "start_time": "2025-01-03T22:26:56.908Z"
   },
   {
    "duration": 354,
    "start_time": "2025-01-03T22:26:57.041Z"
   },
   {
    "duration": 9,
    "start_time": "2025-01-03T22:26:57.397Z"
   },
   {
    "duration": 178,
    "start_time": "2025-01-03T22:26:57.408Z"
   },
   {
    "duration": 166,
    "start_time": "2025-01-03T22:26:57.588Z"
   },
   {
    "duration": 216,
    "start_time": "2025-01-03T22:26:57.756Z"
   },
   {
    "duration": 41,
    "start_time": "2025-01-03T22:26:57.973Z"
   },
   {
    "duration": 14,
    "start_time": "2025-01-03T22:26:58.016Z"
   },
   {
    "duration": 72,
    "start_time": "2025-01-03T22:26:58.034Z"
   },
   {
    "duration": 316,
    "start_time": "2025-01-03T22:26:58.108Z"
   },
   {
    "duration": 29,
    "start_time": "2025-01-03T22:26:58.426Z"
   },
   {
    "duration": 18,
    "start_time": "2025-01-03T22:27:12.048Z"
   },
   {
    "duration": 809,
    "start_time": "2025-01-03T22:29:24.968Z"
   },
   {
    "duration": 226,
    "start_time": "2025-01-03T22:29:50.522Z"
   },
   {
    "duration": 40,
    "start_time": "2025-01-03T22:29:54.362Z"
   },
   {
    "duration": 21,
    "start_time": "2025-01-03T22:30:54.714Z"
   },
   {
    "duration": 812,
    "start_time": "2025-01-03T22:31:14.775Z"
   },
   {
    "duration": 345,
    "start_time": "2025-01-03T22:31:15.590Z"
   },
   {
    "duration": 10,
    "start_time": "2025-01-03T22:31:15.936Z"
   },
   {
    "duration": 10,
    "start_time": "2025-01-03T22:31:15.947Z"
   },
   {
    "duration": 4,
    "start_time": "2025-01-03T22:31:15.960Z"
   },
   {
    "duration": 3,
    "start_time": "2025-01-03T22:31:15.966Z"
   },
   {
    "duration": 34,
    "start_time": "2025-01-03T22:31:15.971Z"
   },
   {
    "duration": 10,
    "start_time": "2025-01-03T22:31:16.006Z"
   },
   {
    "duration": 12,
    "start_time": "2025-01-03T22:31:16.018Z"
   },
   {
    "duration": 11,
    "start_time": "2025-01-03T22:31:16.031Z"
   },
   {
    "duration": 8,
    "start_time": "2025-01-03T22:31:16.043Z"
   },
   {
    "duration": 7,
    "start_time": "2025-01-03T22:31:16.054Z"
   },
   {
    "duration": 74,
    "start_time": "2025-01-03T22:31:16.062Z"
   },
   {
    "duration": 151,
    "start_time": "2025-01-03T22:31:16.139Z"
   },
   {
    "duration": 120,
    "start_time": "2025-01-03T22:31:16.292Z"
   },
   {
    "duration": 320,
    "start_time": "2025-01-03T22:31:16.413Z"
   },
   {
    "duration": 5,
    "start_time": "2025-01-03T22:31:16.735Z"
   },
   {
    "duration": 176,
    "start_time": "2025-01-03T22:31:16.741Z"
   },
   {
    "duration": 160,
    "start_time": "2025-01-03T22:31:16.919Z"
   },
   {
    "duration": 203,
    "start_time": "2025-01-03T22:31:17.081Z"
   },
   {
    "duration": 29,
    "start_time": "2025-01-03T22:31:17.286Z"
   },
   {
    "duration": 9,
    "start_time": "2025-01-03T22:31:17.316Z"
   },
   {
    "duration": 82,
    "start_time": "2025-01-03T22:31:17.327Z"
   },
   {
    "duration": 215,
    "start_time": "2025-01-03T22:31:17.411Z"
   },
   {
    "duration": 19,
    "start_time": "2025-01-03T22:31:17.627Z"
   },
   {
    "duration": 600,
    "start_time": "2025-01-03T22:31:35.858Z"
   },
   {
    "duration": 19,
    "start_time": "2025-01-03T22:32:04.451Z"
   },
   {
    "duration": 247,
    "start_time": "2025-01-03T22:32:33.320Z"
   },
   {
    "duration": 223,
    "start_time": "2025-01-03T22:34:48.882Z"
   },
   {
    "duration": 294,
    "start_time": "2025-01-03T22:38:38.749Z"
   },
   {
    "duration": 292,
    "start_time": "2025-01-03T22:39:04.653Z"
   },
   {
    "duration": 15,
    "start_time": "2025-01-03T22:39:36.925Z"
   },
   {
    "duration": 14,
    "start_time": "2025-01-03T22:40:16.303Z"
   },
   {
    "duration": 15,
    "start_time": "2025-01-03T22:40:55.654Z"
   },
   {
    "duration": 300,
    "start_time": "2025-01-03T22:41:46.959Z"
   },
   {
    "duration": 828,
    "start_time": "2025-01-03T22:42:02.166Z"
   },
   {
    "duration": 357,
    "start_time": "2025-01-03T22:42:02.996Z"
   },
   {
    "duration": 9,
    "start_time": "2025-01-03T22:42:03.355Z"
   },
   {
    "duration": 9,
    "start_time": "2025-01-03T22:42:03.366Z"
   },
   {
    "duration": 4,
    "start_time": "2025-01-03T22:42:03.377Z"
   },
   {
    "duration": 25,
    "start_time": "2025-01-03T22:42:03.382Z"
   },
   {
    "duration": 7,
    "start_time": "2025-01-03T22:42:03.408Z"
   },
   {
    "duration": 10,
    "start_time": "2025-01-03T22:42:03.416Z"
   },
   {
    "duration": 13,
    "start_time": "2025-01-03T22:42:03.427Z"
   },
   {
    "duration": 12,
    "start_time": "2025-01-03T22:42:03.442Z"
   },
   {
    "duration": 8,
    "start_time": "2025-01-03T22:42:03.457Z"
   },
   {
    "duration": 43,
    "start_time": "2025-01-03T22:42:03.467Z"
   },
   {
    "duration": 43,
    "start_time": "2025-01-03T22:42:03.512Z"
   },
   {
    "duration": 175,
    "start_time": "2025-01-03T22:42:03.558Z"
   },
   {
    "duration": 122,
    "start_time": "2025-01-03T22:42:03.735Z"
   },
   {
    "duration": 320,
    "start_time": "2025-01-03T22:42:03.860Z"
   },
   {
    "duration": 4,
    "start_time": "2025-01-03T22:42:04.182Z"
   },
   {
    "duration": 174,
    "start_time": "2025-01-03T22:42:04.188Z"
   },
   {
    "duration": 159,
    "start_time": "2025-01-03T22:42:04.363Z"
   },
   {
    "duration": 205,
    "start_time": "2025-01-03T22:42:04.524Z"
   },
   {
    "duration": 25,
    "start_time": "2025-01-03T22:42:04.731Z"
   },
   {
    "duration": 9,
    "start_time": "2025-01-03T22:42:04.758Z"
   },
   {
    "duration": 89,
    "start_time": "2025-01-03T22:42:04.769Z"
   },
   {
    "duration": 345,
    "start_time": "2025-01-03T22:42:04.860Z"
   },
   {
    "duration": 5,
    "start_time": "2025-01-03T22:42:28.616Z"
   },
   {
    "duration": 5,
    "start_time": "2025-01-03T22:42:36.202Z"
   },
   {
    "duration": 814,
    "start_time": "2025-01-03T22:43:17.106Z"
   },
   {
    "duration": 788,
    "start_time": "2025-01-03T22:43:28.985Z"
   },
   {
    "duration": 361,
    "start_time": "2025-01-03T22:43:29.775Z"
   },
   {
    "duration": 9,
    "start_time": "2025-01-03T22:43:30.137Z"
   },
   {
    "duration": 9,
    "start_time": "2025-01-03T22:43:30.147Z"
   },
   {
    "duration": 3,
    "start_time": "2025-01-03T22:43:30.159Z"
   },
   {
    "duration": 3,
    "start_time": "2025-01-03T22:43:30.164Z"
   },
   {
    "duration": 7,
    "start_time": "2025-01-03T22:43:30.169Z"
   },
   {
    "duration": 9,
    "start_time": "2025-01-03T22:43:30.204Z"
   },
   {
    "duration": 12,
    "start_time": "2025-01-03T22:43:30.215Z"
   },
   {
    "duration": 10,
    "start_time": "2025-01-03T22:43:30.228Z"
   },
   {
    "duration": 8,
    "start_time": "2025-01-03T22:43:30.240Z"
   },
   {
    "duration": 6,
    "start_time": "2025-01-03T22:43:30.250Z"
   },
   {
    "duration": 68,
    "start_time": "2025-01-03T22:43:30.258Z"
   },
   {
    "duration": 163,
    "start_time": "2025-01-03T22:43:30.329Z"
   },
   {
    "duration": 123,
    "start_time": "2025-01-03T22:43:30.494Z"
   },
   {
    "duration": 314,
    "start_time": "2025-01-03T22:43:30.622Z"
   },
   {
    "duration": 5,
    "start_time": "2025-01-03T22:43:30.937Z"
   },
   {
    "duration": 169,
    "start_time": "2025-01-03T22:43:30.944Z"
   },
   {
    "duration": 169,
    "start_time": "2025-01-03T22:43:31.115Z"
   },
   {
    "duration": 196,
    "start_time": "2025-01-03T22:43:31.286Z"
   },
   {
    "duration": 29,
    "start_time": "2025-01-03T22:43:31.484Z"
   },
   {
    "duration": 10,
    "start_time": "2025-01-03T22:43:31.514Z"
   },
   {
    "duration": 85,
    "start_time": "2025-01-03T22:43:31.525Z"
   },
   {
    "duration": 356,
    "start_time": "2025-01-03T22:43:31.612Z"
   },
   {
    "duration": 26,
    "start_time": "2025-01-03T22:43:59.102Z"
   },
   {
    "duration": 25,
    "start_time": "2025-01-03T22:44:10.365Z"
   },
   {
    "duration": 25,
    "start_time": "2025-01-03T22:45:12.574Z"
   },
   {
    "duration": 5,
    "start_time": "2025-01-03T22:46:25.569Z"
   },
   {
    "duration": 5,
    "start_time": "2025-01-03T22:46:35.543Z"
   },
   {
    "duration": 20,
    "start_time": "2025-01-03T22:51:23.068Z"
   },
   {
    "duration": 27,
    "start_time": "2025-01-03T22:51:36.475Z"
   },
   {
    "duration": 19,
    "start_time": "2025-01-03T22:52:32.220Z"
   },
   {
    "duration": 4,
    "start_time": "2025-01-03T22:54:22.746Z"
   },
   {
    "duration": 5,
    "start_time": "2025-01-03T22:54:40.600Z"
   },
   {
    "duration": 4246,
    "start_time": "2025-01-03T22:55:27.006Z"
   },
   {
    "duration": 2460,
    "start_time": "2025-01-04T01:53:22.315Z"
   },
   {
    "duration": 405,
    "start_time": "2025-01-04T01:53:24.778Z"
   },
   {
    "duration": 14,
    "start_time": "2025-01-04T01:53:25.184Z"
   },
   {
    "duration": 9,
    "start_time": "2025-01-04T01:53:25.200Z"
   },
   {
    "duration": 4,
    "start_time": "2025-01-04T01:53:25.210Z"
   },
   {
    "duration": 3,
    "start_time": "2025-01-04T01:53:25.216Z"
   },
   {
    "duration": 23,
    "start_time": "2025-01-04T01:53:25.220Z"
   },
   {
    "duration": 9,
    "start_time": "2025-01-04T01:53:25.245Z"
   },
   {
    "duration": 11,
    "start_time": "2025-01-04T01:53:25.256Z"
   },
   {
    "duration": 10,
    "start_time": "2025-01-04T01:53:25.270Z"
   },
   {
    "duration": 8,
    "start_time": "2025-01-04T01:53:25.281Z"
   },
   {
    "duration": 6,
    "start_time": "2025-01-04T01:53:25.290Z"
   },
   {
    "duration": 73,
    "start_time": "2025-01-04T01:53:25.298Z"
   },
   {
    "duration": 153,
    "start_time": "2025-01-04T01:53:25.373Z"
   },
   {
    "duration": 116,
    "start_time": "2025-01-04T01:53:25.528Z"
   },
   {
    "duration": 314,
    "start_time": "2025-01-04T01:53:25.645Z"
   },
   {
    "duration": 4,
    "start_time": "2025-01-04T01:53:25.961Z"
   },
   {
    "duration": 177,
    "start_time": "2025-01-04T01:53:25.967Z"
   },
   {
    "duration": 163,
    "start_time": "2025-01-04T01:53:26.146Z"
   },
   {
    "duration": 161,
    "start_time": "2025-01-04T01:53:26.310Z"
   },
   {
    "duration": 26,
    "start_time": "2025-01-04T01:53:26.473Z"
   },
   {
    "duration": 9,
    "start_time": "2025-01-04T01:53:26.500Z"
   },
   {
    "duration": 96,
    "start_time": "2025-01-04T01:53:26.511Z"
   },
   {
    "duration": 333,
    "start_time": "2025-01-04T01:53:26.610Z"
   },
   {
    "duration": 24,
    "start_time": "2025-01-04T01:53:26.945Z"
   },
   {
    "duration": 6,
    "start_time": "2025-01-04T01:53:37.817Z"
   },
   {
    "duration": 24,
    "start_time": "2025-01-04T01:59:06.697Z"
   },
   {
    "duration": 248,
    "start_time": "2025-01-04T01:59:08.862Z"
   },
   {
    "duration": 211,
    "start_time": "2025-01-04T02:00:19.518Z"
   },
   {
    "duration": 26,
    "start_time": "2025-01-04T02:02:57.424Z"
   },
   {
    "duration": 26,
    "start_time": "2025-01-04T02:03:07.042Z"
   },
   {
    "duration": 233,
    "start_time": "2025-01-04T02:03:49.528Z"
   },
   {
    "duration": 196,
    "start_time": "2025-01-04T02:03:57.543Z"
   },
   {
    "duration": 144,
    "start_time": "2025-01-04T02:07:32.364Z"
   },
   {
    "duration": 32,
    "start_time": "2025-01-04T02:07:46.700Z"
   },
   {
    "duration": 26,
    "start_time": "2025-01-04T02:08:04.029Z"
   },
   {
    "duration": 33,
    "start_time": "2025-01-04T02:08:11.780Z"
   },
   {
    "duration": 25,
    "start_time": "2025-01-04T02:08:29.796Z"
   },
   {
    "duration": 26,
    "start_time": "2025-01-04T02:08:50.236Z"
   },
   {
    "duration": 27,
    "start_time": "2025-01-04T02:09:18.332Z"
   },
   {
    "duration": 213,
    "start_time": "2025-01-04T02:09:29.222Z"
   },
   {
    "duration": 174,
    "start_time": "2025-01-04T02:14:02.224Z"
   },
   {
    "duration": 131,
    "start_time": "2025-01-04T02:14:14.419Z"
   },
   {
    "duration": 190,
    "start_time": "2025-01-04T02:14:36.912Z"
   },
   {
    "duration": 265,
    "start_time": "2025-01-04T02:14:55.169Z"
   },
   {
    "duration": 205,
    "start_time": "2025-01-04T02:15:37.961Z"
   },
   {
    "duration": 269,
    "start_time": "2025-01-04T02:15:45.929Z"
   },
   {
    "duration": 393,
    "start_time": "2025-01-04T02:15:59.401Z"
   },
   {
    "duration": 365,
    "start_time": "2025-01-04T02:16:10.931Z"
   },
   {
    "duration": 164,
    "start_time": "2025-01-04T02:16:17.410Z"
   },
   {
    "duration": 39789,
    "start_time": "2025-01-04T02:34:34.320Z"
   },
   {
    "duration": 18,
    "start_time": "2025-01-04T02:35:14.127Z"
   },
   {
    "duration": 388,
    "start_time": "2025-01-04T02:40:20.988Z"
   },
   {
    "duration": 9,
    "start_time": "2025-01-04T02:40:29.413Z"
   },
   {
    "duration": 11,
    "start_time": "2025-01-04T02:40:55.897Z"
   },
   {
    "duration": 5,
    "start_time": "2025-01-04T02:41:03.100Z"
   },
   {
    "duration": 4,
    "start_time": "2025-01-04T02:41:12.421Z"
   },
   {
    "duration": 26,
    "start_time": "2025-01-04T02:44:46.553Z"
   },
   {
    "duration": 10,
    "start_time": "2025-01-04T02:44:53.521Z"
   },
   {
    "duration": 8,
    "start_time": "2025-01-04T02:52:47.087Z"
   },
   {
    "duration": 4,
    "start_time": "2025-01-04T02:52:52.471Z"
   },
   {
    "duration": 5,
    "start_time": "2025-01-04T02:54:41.207Z"
   },
   {
    "duration": 4,
    "start_time": "2025-01-04T02:54:43.768Z"
   },
   {
    "duration": 8,
    "start_time": "2025-01-04T02:54:49.520Z"
   },
   {
    "duration": 4,
    "start_time": "2025-01-04T02:54:49.959Z"
   },
   {
    "duration": 10,
    "start_time": "2025-01-04T02:56:10.921Z"
   },
   {
    "duration": 151,
    "start_time": "2025-01-04T03:05:02.493Z"
   },
   {
    "duration": 152,
    "start_time": "2025-01-04T03:05:14.943Z"
   },
   {
    "duration": 144,
    "start_time": "2025-01-04T03:05:27.042Z"
   },
   {
    "duration": 145,
    "start_time": "2025-01-04T03:05:47.128Z"
   },
   {
    "duration": 151,
    "start_time": "2025-01-04T03:05:56.976Z"
   },
   {
    "duration": 2600,
    "start_time": "2025-01-04T04:56:34.125Z"
   },
   {
    "duration": 451,
    "start_time": "2025-01-04T04:56:36.728Z"
   },
   {
    "duration": 20,
    "start_time": "2025-01-04T04:56:37.181Z"
   },
   {
    "duration": 18,
    "start_time": "2025-01-04T04:56:37.203Z"
   },
   {
    "duration": 4,
    "start_time": "2025-01-04T04:56:37.227Z"
   },
   {
    "duration": 4,
    "start_time": "2025-01-04T04:56:37.233Z"
   },
   {
    "duration": 7,
    "start_time": "2025-01-04T04:56:37.238Z"
   },
   {
    "duration": 9,
    "start_time": "2025-01-04T04:56:37.247Z"
   },
   {
    "duration": 13,
    "start_time": "2025-01-04T04:56:37.258Z"
   },
   {
    "duration": 41,
    "start_time": "2025-01-04T04:56:37.273Z"
   },
   {
    "duration": 10,
    "start_time": "2025-01-04T04:56:37.316Z"
   },
   {
    "duration": 7,
    "start_time": "2025-01-04T04:56:37.328Z"
   },
   {
    "duration": 45,
    "start_time": "2025-01-04T04:56:37.336Z"
   },
   {
    "duration": 186,
    "start_time": "2025-01-04T04:56:37.409Z"
   },
   {
    "duration": 128,
    "start_time": "2025-01-04T04:56:37.597Z"
   },
   {
    "duration": 334,
    "start_time": "2025-01-04T04:56:37.726Z"
   },
   {
    "duration": 5,
    "start_time": "2025-01-04T04:56:38.062Z"
   },
   {
    "duration": 168,
    "start_time": "2025-01-04T04:56:38.069Z"
   },
   {
    "duration": 163,
    "start_time": "2025-01-04T04:56:38.239Z"
   },
   {
    "duration": 162,
    "start_time": "2025-01-04T04:56:38.409Z"
   },
   {
    "duration": 36,
    "start_time": "2025-01-04T04:56:38.573Z"
   },
   {
    "duration": 10,
    "start_time": "2025-01-04T04:56:38.610Z"
   },
   {
    "duration": 69,
    "start_time": "2025-01-04T04:56:38.622Z"
   },
   {
    "duration": 364,
    "start_time": "2025-01-04T04:56:38.693Z"
   },
   {
    "duration": 27,
    "start_time": "2025-01-04T04:56:39.059Z"
   },
   {
    "duration": 175,
    "start_time": "2025-01-04T04:56:39.088Z"
   },
   {
    "duration": 12,
    "start_time": "2025-01-04T04:56:39.266Z"
   },
   {
    "duration": 164,
    "start_time": "2025-01-04T04:56:39.280Z"
   },
   {
    "duration": 270,
    "start_time": "2025-01-04T04:59:10.575Z"
   },
   {
    "duration": 3,
    "start_time": "2025-01-04T05:00:00.944Z"
   },
   {
    "duration": 3,
    "start_time": "2025-01-04T05:00:08.383Z"
   },
   {
    "duration": 4,
    "start_time": "2025-01-04T05:01:39.937Z"
   },
   {
    "duration": 9,
    "start_time": "2025-01-04T05:04:20.802Z"
   },
   {
    "duration": 5,
    "start_time": "2025-01-04T05:04:27.917Z"
   },
   {
    "duration": 138,
    "start_time": "2025-01-04T05:08:02.482Z"
   },
   {
    "duration": 146,
    "start_time": "2025-01-04T05:09:55.231Z"
   },
   {
    "duration": 10,
    "start_time": "2025-01-04T05:17:11.269Z"
   },
   {
    "duration": 5,
    "start_time": "2025-01-04T05:17:13.261Z"
   },
   {
    "duration": 10,
    "start_time": "2025-01-04T05:18:09.612Z"
   },
   {
    "duration": 3,
    "start_time": "2025-01-04T05:18:10.679Z"
   },
   {
    "duration": 5,
    "start_time": "2025-01-04T05:19:19.306Z"
   },
   {
    "duration": 11,
    "start_time": "2025-01-04T05:19:23.038Z"
   },
   {
    "duration": 11,
    "start_time": "2025-01-04T05:20:49.627Z"
   },
   {
    "duration": 2586,
    "start_time": "2025-01-04T17:24:13.884Z"
   },
   {
    "duration": 472,
    "start_time": "2025-01-04T17:24:16.473Z"
   },
   {
    "duration": 9,
    "start_time": "2025-01-04T17:24:16.947Z"
   },
   {
    "duration": 9,
    "start_time": "2025-01-04T17:24:16.959Z"
   },
   {
    "duration": 4,
    "start_time": "2025-01-04T17:24:16.971Z"
   },
   {
    "duration": 4,
    "start_time": "2025-01-04T17:24:16.977Z"
   },
   {
    "duration": 6,
    "start_time": "2025-01-04T17:24:16.982Z"
   },
   {
    "duration": 42,
    "start_time": "2025-01-04T17:24:16.990Z"
   },
   {
    "duration": 12,
    "start_time": "2025-01-04T17:24:17.034Z"
   },
   {
    "duration": 10,
    "start_time": "2025-01-04T17:24:17.048Z"
   },
   {
    "duration": 8,
    "start_time": "2025-01-04T17:24:17.060Z"
   },
   {
    "duration": 7,
    "start_time": "2025-01-04T17:24:17.070Z"
   },
   {
    "duration": 72,
    "start_time": "2025-01-04T17:24:17.078Z"
   },
   {
    "duration": 186,
    "start_time": "2025-01-04T17:24:17.154Z"
   },
   {
    "duration": 116,
    "start_time": "2025-01-04T17:24:17.342Z"
   },
   {
    "duration": 344,
    "start_time": "2025-01-04T17:24:17.460Z"
   },
   {
    "duration": 5,
    "start_time": "2025-01-04T17:24:17.806Z"
   },
   {
    "duration": 190,
    "start_time": "2025-01-04T17:24:17.814Z"
   },
   {
    "duration": 172,
    "start_time": "2025-01-04T17:24:18.006Z"
   },
   {
    "duration": 165,
    "start_time": "2025-01-04T17:24:18.180Z"
   },
   {
    "duration": 27,
    "start_time": "2025-01-04T17:24:18.347Z"
   },
   {
    "duration": 12,
    "start_time": "2025-01-04T17:24:18.376Z"
   },
   {
    "duration": 100,
    "start_time": "2025-01-04T17:24:18.390Z"
   },
   {
    "duration": 366,
    "start_time": "2025-01-04T17:24:18.492Z"
   },
   {
    "duration": 30,
    "start_time": "2025-01-04T17:24:18.860Z"
   },
   {
    "duration": 193,
    "start_time": "2025-01-04T17:24:18.893Z"
   },
   {
    "duration": 12,
    "start_time": "2025-01-04T17:24:19.088Z"
   },
   {
    "duration": 235,
    "start_time": "2025-01-04T17:24:19.102Z"
   },
   {
    "duration": 9,
    "start_time": "2025-01-04T17:24:19.339Z"
   },
   {
    "duration": 8,
    "start_time": "2025-01-04T17:24:19.350Z"
   },
   {
    "duration": 4,
    "start_time": "2025-01-04T17:24:19.360Z"
   },
   {
    "duration": 189,
    "start_time": "2025-01-04T17:24:19.366Z"
   },
   {
    "duration": 14,
    "start_time": "2025-01-04T17:24:19.557Z"
   },
   {
    "duration": 6,
    "start_time": "2025-01-04T17:26:27.155Z"
   },
   {
    "duration": 3,
    "start_time": "2025-01-04T17:27:04.852Z"
   },
   {
    "duration": 4,
    "start_time": "2025-01-04T17:28:02.724Z"
   },
   {
    "duration": 10,
    "start_time": "2025-01-04T17:28:48.254Z"
   },
   {
    "duration": 3,
    "start_time": "2025-01-04T17:31:54.671Z"
   },
   {
    "duration": 4,
    "start_time": "2025-01-04T17:32:04.415Z"
   },
   {
    "duration": 4,
    "start_time": "2025-01-04T17:32:45.920Z"
   },
   {
    "duration": 11,
    "start_time": "2025-01-04T17:33:21.768Z"
   },
   {
    "duration": 9,
    "start_time": "2025-01-04T17:34:09.312Z"
   },
   {
    "duration": 9,
    "start_time": "2025-01-04T17:34:14.034Z"
   },
   {
    "duration": 7,
    "start_time": "2025-01-04T17:34:31.530Z"
   },
   {
    "duration": 4,
    "start_time": "2025-01-04T17:38:44.973Z"
   },
   {
    "duration": 6,
    "start_time": "2025-01-04T17:38:50.076Z"
   },
   {
    "duration": 6,
    "start_time": "2025-01-04T17:39:53.253Z"
   },
   {
    "duration": 2,
    "start_time": "2025-01-04T17:41:31.983Z"
   },
   {
    "duration": 222,
    "start_time": "2025-01-04T17:42:45.631Z"
   },
   {
    "duration": 116,
    "start_time": "2025-01-04T17:43:13.274Z"
   },
   {
    "duration": 112,
    "start_time": "2025-01-04T17:44:27.281Z"
   },
   {
    "duration": 117,
    "start_time": "2025-01-04T17:45:43.982Z"
   },
   {
    "duration": 135,
    "start_time": "2025-01-04T17:46:06.666Z"
   },
   {
    "duration": 133,
    "start_time": "2025-01-04T17:48:18.976Z"
   },
   {
    "duration": 191,
    "start_time": "2025-01-04T17:48:29.506Z"
   },
   {
    "duration": 127,
    "start_time": "2025-01-04T17:51:03.785Z"
   },
   {
    "duration": 118,
    "start_time": "2025-01-04T17:51:23.386Z"
   },
   {
    "duration": 137,
    "start_time": "2025-01-04T17:51:28.321Z"
   },
   {
    "duration": 135,
    "start_time": "2025-01-04T17:52:11.698Z"
   },
   {
    "duration": 125,
    "start_time": "2025-01-04T17:52:22.314Z"
   },
   {
    "duration": 2493,
    "start_time": "2025-01-04T20:18:00.056Z"
   },
   {
    "duration": 414,
    "start_time": "2025-01-04T20:18:02.553Z"
   },
   {
    "duration": 10,
    "start_time": "2025-01-04T20:18:02.968Z"
   },
   {
    "duration": 8,
    "start_time": "2025-01-04T20:18:02.981Z"
   },
   {
    "duration": 3,
    "start_time": "2025-01-04T20:18:02.992Z"
   },
   {
    "duration": 28,
    "start_time": "2025-01-04T20:18:02.997Z"
   },
   {
    "duration": 7,
    "start_time": "2025-01-04T20:18:03.027Z"
   },
   {
    "duration": 10,
    "start_time": "2025-01-04T20:18:03.036Z"
   },
   {
    "duration": 11,
    "start_time": "2025-01-04T20:18:03.048Z"
   },
   {
    "duration": 10,
    "start_time": "2025-01-04T20:18:03.061Z"
   },
   {
    "duration": 7,
    "start_time": "2025-01-04T20:18:03.073Z"
   },
   {
    "duration": 6,
    "start_time": "2025-01-04T20:18:03.082Z"
   },
   {
    "duration": 69,
    "start_time": "2025-01-04T20:18:03.090Z"
   },
   {
    "duration": 168,
    "start_time": "2025-01-04T20:18:03.163Z"
   },
   {
    "duration": 118,
    "start_time": "2025-01-04T20:18:03.333Z"
   },
   {
    "duration": 323,
    "start_time": "2025-01-04T20:18:03.452Z"
   },
   {
    "duration": 6,
    "start_time": "2025-01-04T20:18:03.776Z"
   },
   {
    "duration": 176,
    "start_time": "2025-01-04T20:18:03.784Z"
   },
   {
    "duration": 175,
    "start_time": "2025-01-04T20:18:03.962Z"
   },
   {
    "duration": 159,
    "start_time": "2025-01-04T20:18:04.139Z"
   },
   {
    "duration": 34,
    "start_time": "2025-01-04T20:18:04.299Z"
   },
   {
    "duration": 9,
    "start_time": "2025-01-04T20:18:04.335Z"
   },
   {
    "duration": 82,
    "start_time": "2025-01-04T20:18:04.346Z"
   },
   {
    "duration": 334,
    "start_time": "2025-01-04T20:18:04.430Z"
   },
   {
    "duration": 27,
    "start_time": "2025-01-04T20:18:04.766Z"
   },
   {
    "duration": 172,
    "start_time": "2025-01-04T20:18:04.795Z"
   },
   {
    "duration": 11,
    "start_time": "2025-01-04T20:18:04.969Z"
   },
   {
    "duration": 219,
    "start_time": "2025-01-04T20:18:04.982Z"
   },
   {
    "duration": 4,
    "start_time": "2025-01-04T20:18:05.203Z"
   },
   {
    "duration": 20,
    "start_time": "2025-01-04T20:18:05.209Z"
   },
   {
    "duration": 4,
    "start_time": "2025-01-04T20:18:05.231Z"
   },
   {
    "duration": 155,
    "start_time": "2025-01-04T20:18:05.237Z"
   },
   {
    "duration": 10,
    "start_time": "2025-01-04T20:18:05.394Z"
   },
   {
    "duration": 3,
    "start_time": "2025-01-04T20:18:05.406Z"
   },
   {
    "duration": 5,
    "start_time": "2025-01-04T20:18:05.424Z"
   },
   {
    "duration": 135,
    "start_time": "2025-01-04T20:18:05.431Z"
   },
   {
    "duration": 2,
    "start_time": "2025-01-04T20:18:05.568Z"
   },
   {
    "duration": 3,
    "start_time": "2025-01-04T20:23:35.375Z"
   },
   {
    "duration": 212,
    "start_time": "2025-01-04T20:24:41.792Z"
   },
   {
    "duration": 154,
    "start_time": "2025-01-04T20:25:22.873Z"
   },
   {
    "duration": 181,
    "start_time": "2025-01-04T20:25:29.105Z"
   },
   {
    "duration": 7,
    "start_time": "2025-01-04T20:29:34.924Z"
   },
   {
    "duration": 145,
    "start_time": "2025-01-04T20:29:44.261Z"
   },
   {
    "duration": 229,
    "start_time": "2025-01-04T20:29:53.367Z"
   },
   {
    "duration": 22,
    "start_time": "2025-01-04T20:30:30.453Z"
   },
   {
    "duration": 25,
    "start_time": "2025-01-04T20:30:46.069Z"
   },
   {
    "duration": 211,
    "start_time": "2025-01-04T20:32:17.047Z"
   },
   {
    "duration": 173,
    "start_time": "2025-01-04T20:32:32.758Z"
   },
   {
    "duration": 195,
    "start_time": "2025-01-04T20:32:44.942Z"
   },
   {
    "duration": 169,
    "start_time": "2025-01-04T20:32:51.343Z"
   },
   {
    "duration": 24,
    "start_time": "2025-01-04T20:32:54.103Z"
   },
   {
    "duration": 3,
    "start_time": "2025-01-04T20:38:22.956Z"
   },
   {
    "duration": 205,
    "start_time": "2025-01-04T20:39:00.403Z"
   },
   {
    "duration": 201,
    "start_time": "2025-01-04T20:39:12.907Z"
   },
   {
    "duration": 183,
    "start_time": "2025-01-04T20:41:17.029Z"
   },
   {
    "duration": 13,
    "start_time": "2025-01-04T20:44:36.657Z"
   },
   {
    "duration": 3,
    "start_time": "2025-01-04T20:45:20.392Z"
   },
   {
    "duration": 4,
    "start_time": "2025-01-04T20:45:29.217Z"
   },
   {
    "duration": 198,
    "start_time": "2025-01-04T20:47:32.314Z"
   },
   {
    "duration": 188,
    "start_time": "2025-01-04T20:47:44.025Z"
   },
   {
    "duration": 124,
    "start_time": "2025-01-04T20:52:10.021Z"
   },
   {
    "duration": 77,
    "start_time": "2025-01-04T20:52:32.286Z"
   },
   {
    "duration": 16,
    "start_time": "2025-01-04T20:52:40.729Z"
   },
   {
    "duration": 17,
    "start_time": "2025-01-04T20:56:55.273Z"
   },
   {
    "duration": 18,
    "start_time": "2025-01-04T20:56:57.491Z"
   },
   {
    "duration": 115,
    "start_time": "2025-01-04T20:57:15.538Z"
   },
   {
    "duration": 115,
    "start_time": "2025-01-04T20:58:54.683Z"
   },
   {
    "duration": 119,
    "start_time": "2025-01-04T20:59:07.218Z"
   },
   {
    "duration": 19,
    "start_time": "2025-01-04T21:16:55.905Z"
   },
   {
    "duration": 5,
    "start_time": "2025-01-04T21:21:27.871Z"
   },
   {
    "duration": 14,
    "start_time": "2025-01-04T21:21:46.860Z"
   },
   {
    "duration": 21,
    "start_time": "2025-01-04T21:21:53.349Z"
   },
   {
    "duration": 12,
    "start_time": "2025-01-04T21:22:57.669Z"
   },
   {
    "duration": 7,
    "start_time": "2025-01-04T21:23:02.957Z"
   },
   {
    "duration": 26,
    "start_time": "2025-01-04T21:25:25.600Z"
   },
   {
    "duration": 230,
    "start_time": "2025-01-04T21:26:12.384Z"
   },
   {
    "duration": 23,
    "start_time": "2025-01-04T21:26:16.705Z"
   },
   {
    "duration": 9,
    "start_time": "2025-01-04T21:28:32.514Z"
   },
   {
    "duration": 5,
    "start_time": "2025-01-04T21:28:39.834Z"
   },
   {
    "duration": 6,
    "start_time": "2025-01-04T21:28:54.306Z"
   },
   {
    "duration": 166,
    "start_time": "2025-01-04T21:29:49.371Z"
   },
   {
    "duration": 166,
    "start_time": "2025-01-04T21:30:10.184Z"
   },
   {
    "duration": 6,
    "start_time": "2025-01-04T21:31:25.620Z"
   },
   {
    "duration": 2578,
    "start_time": "2025-01-06T05:00:41.254Z"
   },
   {
    "duration": 457,
    "start_time": "2025-01-06T05:00:43.834Z"
   },
   {
    "duration": 9,
    "start_time": "2025-01-06T05:00:44.293Z"
   },
   {
    "duration": 9,
    "start_time": "2025-01-06T05:00:44.304Z"
   },
   {
    "duration": 5,
    "start_time": "2025-01-06T05:00:44.332Z"
   },
   {
    "duration": 4,
    "start_time": "2025-01-06T05:00:44.339Z"
   },
   {
    "duration": 7,
    "start_time": "2025-01-06T05:00:44.344Z"
   },
   {
    "duration": 9,
    "start_time": "2025-01-06T05:00:44.353Z"
   },
   {
    "duration": 12,
    "start_time": "2025-01-06T05:00:44.364Z"
   },
   {
    "duration": 11,
    "start_time": "2025-01-06T05:00:44.378Z"
   },
   {
    "duration": 46,
    "start_time": "2025-01-06T05:00:44.390Z"
   },
   {
    "duration": 8,
    "start_time": "2025-01-06T05:00:44.437Z"
   },
   {
    "duration": 41,
    "start_time": "2025-01-06T05:00:44.446Z"
   },
   {
    "duration": 171,
    "start_time": "2025-01-06T05:00:44.491Z"
   },
   {
    "duration": 117,
    "start_time": "2025-01-06T05:00:44.664Z"
   },
   {
    "duration": 318,
    "start_time": "2025-01-06T05:00:44.783Z"
   },
   {
    "duration": 6,
    "start_time": "2025-01-06T05:00:45.103Z"
   },
   {
    "duration": 172,
    "start_time": "2025-01-06T05:00:45.111Z"
   },
   {
    "duration": 162,
    "start_time": "2025-01-06T05:00:45.286Z"
   },
   {
    "duration": 158,
    "start_time": "2025-01-06T05:00:45.450Z"
   },
   {
    "duration": 29,
    "start_time": "2025-01-06T05:00:45.610Z"
   },
   {
    "duration": 11,
    "start_time": "2025-01-06T05:00:45.641Z"
   },
   {
    "duration": 84,
    "start_time": "2025-01-06T05:00:45.653Z"
   },
   {
    "duration": 392,
    "start_time": "2025-01-06T05:00:45.739Z"
   },
   {
    "duration": 32,
    "start_time": "2025-01-06T05:00:46.132Z"
   },
   {
    "duration": 173,
    "start_time": "2025-01-06T05:00:46.166Z"
   },
   {
    "duration": 12,
    "start_time": "2025-01-06T05:00:46.341Z"
   },
   {
    "duration": 158,
    "start_time": "2025-01-06T05:00:46.356Z"
   },
   {
    "duration": 4,
    "start_time": "2025-01-06T05:00:46.516Z"
   },
   {
    "duration": 16,
    "start_time": "2025-01-06T05:00:46.521Z"
   },
   {
    "duration": 5,
    "start_time": "2025-01-06T05:00:46.538Z"
   },
   {
    "duration": 160,
    "start_time": "2025-01-06T05:00:46.544Z"
   },
   {
    "duration": 10,
    "start_time": "2025-01-06T05:00:46.706Z"
   },
   {
    "duration": 14,
    "start_time": "2025-01-06T05:00:46.718Z"
   },
   {
    "duration": 5,
    "start_time": "2025-01-06T05:00:46.734Z"
   },
   {
    "duration": 133,
    "start_time": "2025-01-06T05:00:46.740Z"
   },
   {
    "duration": 215,
    "start_time": "2025-01-06T05:00:46.875Z"
   },
   {
    "duration": 129,
    "start_time": "2025-01-06T05:00:47.092Z"
   },
   {
    "duration": 8,
    "start_time": "2025-01-06T05:00:47.223Z"
   },
   {
    "duration": 5,
    "start_time": "2025-01-06T05:00:47.233Z"
   },
   {
    "duration": 2916,
    "start_time": "2025-01-07T02:30:14.793Z"
   },
   {
    "duration": 517,
    "start_time": "2025-01-07T02:30:17.711Z"
   },
   {
    "duration": 15,
    "start_time": "2025-01-07T02:30:18.231Z"
   },
   {
    "duration": 10,
    "start_time": "2025-01-07T02:30:18.248Z"
   },
   {
    "duration": 4,
    "start_time": "2025-01-07T02:30:18.261Z"
   },
   {
    "duration": 4,
    "start_time": "2025-01-07T02:30:18.267Z"
   },
   {
    "duration": 8,
    "start_time": "2025-01-07T02:30:18.272Z"
   },
   {
    "duration": 9,
    "start_time": "2025-01-07T02:30:18.282Z"
   },
   {
    "duration": 11,
    "start_time": "2025-01-07T02:30:18.293Z"
   },
   {
    "duration": 21,
    "start_time": "2025-01-07T02:30:18.333Z"
   },
   {
    "duration": 9,
    "start_time": "2025-01-07T02:30:18.356Z"
   },
   {
    "duration": 8,
    "start_time": "2025-01-07T02:30:18.366Z"
   },
   {
    "duration": 38,
    "start_time": "2025-01-07T02:30:18.376Z"
   },
   {
    "duration": 213,
    "start_time": "2025-01-07T02:30:18.432Z"
   },
   {
    "duration": 149,
    "start_time": "2025-01-07T02:30:18.647Z"
   },
   {
    "duration": 370,
    "start_time": "2025-01-07T02:30:18.799Z"
   },
   {
    "duration": 9,
    "start_time": "2025-01-07T02:30:19.171Z"
   },
   {
    "duration": 178,
    "start_time": "2025-01-07T02:30:19.181Z"
   },
   {
    "duration": 182,
    "start_time": "2025-01-07T02:30:19.361Z"
   },
   {
    "duration": 181,
    "start_time": "2025-01-07T02:30:19.544Z"
   },
   {
    "duration": 43,
    "start_time": "2025-01-07T02:30:19.727Z"
   },
   {
    "duration": 13,
    "start_time": "2025-01-07T02:30:19.772Z"
   },
   {
    "duration": 95,
    "start_time": "2025-01-07T02:30:19.787Z"
   },
   {
    "duration": 411,
    "start_time": "2025-01-07T02:30:19.884Z"
   },
   {
    "duration": 36,
    "start_time": "2025-01-07T02:30:20.297Z"
   },
   {
    "duration": 203,
    "start_time": "2025-01-07T02:30:20.335Z"
   },
   {
    "duration": 15,
    "start_time": "2025-01-07T02:30:20.541Z"
   },
   {
    "duration": 177,
    "start_time": "2025-01-07T02:30:20.558Z"
   },
   {
    "duration": 8,
    "start_time": "2025-01-07T02:30:20.736Z"
   },
   {
    "duration": 12,
    "start_time": "2025-01-07T02:30:20.745Z"
   },
   {
    "duration": 6,
    "start_time": "2025-01-07T02:30:20.758Z"
   },
   {
    "duration": 170,
    "start_time": "2025-01-07T02:30:20.765Z"
   },
   {
    "duration": 17,
    "start_time": "2025-01-07T02:30:20.936Z"
   },
   {
    "duration": 3,
    "start_time": "2025-01-07T02:30:20.955Z"
   },
   {
    "duration": 10,
    "start_time": "2025-01-07T02:30:20.960Z"
   },
   {
    "duration": 196,
    "start_time": "2025-01-07T02:30:20.972Z"
   },
   {
    "duration": 203,
    "start_time": "2025-01-07T02:30:21.171Z"
   },
   {
    "duration": 125,
    "start_time": "2025-01-07T02:30:21.382Z"
   },
   {
    "duration": 4,
    "start_time": "2025-01-07T02:30:21.509Z"
   },
   {
    "duration": 18,
    "start_time": "2025-01-07T02:30:21.514Z"
   },
   {
    "duration": 26,
    "start_time": "2025-01-07T02:39:27.413Z"
   },
   {
    "duration": 213,
    "start_time": "2025-01-07T02:40:56.876Z"
   },
   {
    "duration": 999,
    "start_time": "2025-01-07T02:41:10.364Z"
   },
   {
    "duration": 544,
    "start_time": "2025-01-07T02:41:11.365Z"
   },
   {
    "duration": 10,
    "start_time": "2025-01-07T02:41:11.911Z"
   },
   {
    "duration": 9,
    "start_time": "2025-01-07T02:41:11.923Z"
   },
   {
    "duration": 4,
    "start_time": "2025-01-07T02:41:11.934Z"
   },
   {
    "duration": 5,
    "start_time": "2025-01-07T02:41:11.939Z"
   },
   {
    "duration": 15,
    "start_time": "2025-01-07T02:41:11.946Z"
   },
   {
    "duration": 15,
    "start_time": "2025-01-07T02:41:11.964Z"
   },
   {
    "duration": 20,
    "start_time": "2025-01-07T02:41:11.981Z"
   },
   {
    "duration": 39,
    "start_time": "2025-01-07T02:41:12.005Z"
   },
   {
    "duration": 12,
    "start_time": "2025-01-07T02:41:12.046Z"
   },
   {
    "duration": 10,
    "start_time": "2025-01-07T02:41:12.060Z"
   },
   {
    "duration": 69,
    "start_time": "2025-01-07T02:41:12.072Z"
   },
   {
    "duration": 235,
    "start_time": "2025-01-07T02:41:12.143Z"
   },
   {
    "duration": 135,
    "start_time": "2025-01-07T02:41:12.380Z"
   },
   {
    "duration": 387,
    "start_time": "2025-01-07T02:41:12.517Z"
   },
   {
    "duration": 5,
    "start_time": "2025-01-07T02:41:12.906Z"
   },
   {
    "duration": 198,
    "start_time": "2025-01-07T02:41:12.913Z"
   },
   {
    "duration": 224,
    "start_time": "2025-01-07T02:41:13.113Z"
   },
   {
    "duration": 263,
    "start_time": "2025-01-07T02:41:13.339Z"
   },
   {
    "duration": 39,
    "start_time": "2025-01-07T02:41:13.604Z"
   },
   {
    "duration": 18,
    "start_time": "2025-01-07T02:41:13.647Z"
   },
   {
    "duration": 80,
    "start_time": "2025-01-07T02:41:13.670Z"
   },
   {
    "duration": 431,
    "start_time": "2025-01-07T02:41:13.756Z"
   },
   {
    "duration": 27,
    "start_time": "2025-01-07T02:41:14.188Z"
   },
   {
    "duration": 209,
    "start_time": "2025-01-07T02:41:14.217Z"
   },
   {
    "duration": 22,
    "start_time": "2025-01-07T02:41:14.428Z"
   },
   {
    "duration": 202,
    "start_time": "2025-01-07T02:41:14.455Z"
   },
   {
    "duration": 8,
    "start_time": "2025-01-07T02:41:14.659Z"
   },
   {
    "duration": 15,
    "start_time": "2025-01-07T02:41:14.670Z"
   },
   {
    "duration": 5,
    "start_time": "2025-01-07T02:41:14.687Z"
   },
   {
    "duration": 186,
    "start_time": "2025-01-07T02:41:14.694Z"
   },
   {
    "duration": 11,
    "start_time": "2025-01-07T02:41:14.882Z"
   },
   {
    "duration": 3,
    "start_time": "2025-01-07T02:41:14.895Z"
   },
   {
    "duration": 6,
    "start_time": "2025-01-07T02:41:14.900Z"
   },
   {
    "duration": 184,
    "start_time": "2025-01-07T02:41:14.908Z"
   },
   {
    "duration": 248,
    "start_time": "2025-01-07T02:41:15.094Z"
   },
   {
    "duration": 147,
    "start_time": "2025-01-07T02:41:15.344Z"
   },
   {
    "duration": 4,
    "start_time": "2025-01-07T02:41:15.494Z"
   },
   {
    "duration": 5,
    "start_time": "2025-01-07T02:41:15.500Z"
   },
   {
    "duration": 1007,
    "start_time": "2025-01-07T02:41:39.767Z"
   },
   {
    "duration": 513,
    "start_time": "2025-01-07T02:41:40.776Z"
   },
   {
    "duration": 12,
    "start_time": "2025-01-07T02:41:41.292Z"
   },
   {
    "duration": 8,
    "start_time": "2025-01-07T02:41:41.307Z"
   },
   {
    "duration": 14,
    "start_time": "2025-01-07T02:41:41.318Z"
   },
   {
    "duration": 8,
    "start_time": "2025-01-07T02:41:41.334Z"
   },
   {
    "duration": 13,
    "start_time": "2025-01-07T02:41:41.343Z"
   },
   {
    "duration": 14,
    "start_time": "2025-01-07T02:41:41.361Z"
   },
   {
    "duration": 13,
    "start_time": "2025-01-07T02:41:41.379Z"
   },
   {
    "duration": 15,
    "start_time": "2025-01-07T02:41:41.395Z"
   },
   {
    "duration": 20,
    "start_time": "2025-01-07T02:41:41.412Z"
   },
   {
    "duration": 12,
    "start_time": "2025-01-07T02:41:41.434Z"
   },
   {
    "duration": 54,
    "start_time": "2025-01-07T02:41:41.449Z"
   },
   {
    "duration": 256,
    "start_time": "2025-01-07T02:41:41.507Z"
   },
   {
    "duration": 159,
    "start_time": "2025-01-07T02:41:41.769Z"
   },
   {
    "duration": 392,
    "start_time": "2025-01-07T02:41:41.930Z"
   },
   {
    "duration": 7,
    "start_time": "2025-01-07T02:41:42.324Z"
   },
   {
    "duration": 208,
    "start_time": "2025-01-07T02:41:42.332Z"
   },
   {
    "duration": 209,
    "start_time": "2025-01-07T02:41:42.541Z"
   },
   {
    "duration": 255,
    "start_time": "2025-01-07T02:41:42.755Z"
   },
   {
    "duration": 38,
    "start_time": "2025-01-07T02:41:43.013Z"
   },
   {
    "duration": 19,
    "start_time": "2025-01-07T02:41:43.053Z"
   },
   {
    "duration": 96,
    "start_time": "2025-01-07T02:41:43.076Z"
   },
   {
    "duration": 436,
    "start_time": "2025-01-07T02:41:43.179Z"
   },
   {
    "duration": 36,
    "start_time": "2025-01-07T02:41:43.617Z"
   },
   {
    "duration": 213,
    "start_time": "2025-01-07T02:41:43.655Z"
   },
   {
    "duration": 20,
    "start_time": "2025-01-07T02:41:43.870Z"
   },
   {
    "duration": 209,
    "start_time": "2025-01-07T02:41:43.894Z"
   },
   {
    "duration": 3,
    "start_time": "2025-01-07T02:41:44.105Z"
   },
   {
    "duration": 21,
    "start_time": "2025-01-07T02:41:44.110Z"
   },
   {
    "duration": 6,
    "start_time": "2025-01-07T02:41:44.133Z"
   },
   {
    "duration": 170,
    "start_time": "2025-01-07T02:41:44.142Z"
   },
   {
    "duration": 21,
    "start_time": "2025-01-07T02:41:44.314Z"
   },
   {
    "duration": 4,
    "start_time": "2025-01-07T02:41:44.337Z"
   },
   {
    "duration": 9,
    "start_time": "2025-01-07T02:41:44.343Z"
   },
   {
    "duration": 145,
    "start_time": "2025-01-07T02:41:44.356Z"
   },
   {
    "duration": 258,
    "start_time": "2025-01-07T02:41:44.503Z"
   },
   {
    "duration": 138,
    "start_time": "2025-01-07T02:41:44.766Z"
   },
   {
    "duration": 5,
    "start_time": "2025-01-07T02:41:44.906Z"
   },
   {
    "duration": 5,
    "start_time": "2025-01-07T02:41:44.913Z"
   },
   {
    "duration": 988,
    "start_time": "2025-01-07T02:44:02.666Z"
   },
   {
    "duration": 576,
    "start_time": "2025-01-07T02:44:03.659Z"
   },
   {
    "duration": 13,
    "start_time": "2025-01-07T02:44:04.237Z"
   },
   {
    "duration": 12,
    "start_time": "2025-01-07T02:44:04.256Z"
   },
   {
    "duration": 6,
    "start_time": "2025-01-07T02:44:04.274Z"
   },
   {
    "duration": 4,
    "start_time": "2025-01-07T02:44:04.283Z"
   },
   {
    "duration": 8,
    "start_time": "2025-01-07T02:44:04.289Z"
   },
   {
    "duration": 9,
    "start_time": "2025-01-07T02:44:04.301Z"
   },
   {
    "duration": 40,
    "start_time": "2025-01-07T02:44:04.311Z"
   },
   {
    "duration": 16,
    "start_time": "2025-01-07T02:44:04.353Z"
   },
   {
    "duration": 12,
    "start_time": "2025-01-07T02:44:04.371Z"
   },
   {
    "duration": 7,
    "start_time": "2025-01-07T02:44:04.385Z"
   },
   {
    "duration": 66,
    "start_time": "2025-01-07T02:44:04.394Z"
   },
   {
    "duration": 237,
    "start_time": "2025-01-07T02:44:04.468Z"
   },
   {
    "duration": 143,
    "start_time": "2025-01-07T02:44:04.707Z"
   },
   {
    "duration": 405,
    "start_time": "2025-01-07T02:44:04.852Z"
   },
   {
    "duration": 9,
    "start_time": "2025-01-07T02:44:05.259Z"
   },
   {
    "duration": 205,
    "start_time": "2025-01-07T02:44:05.270Z"
   },
   {
    "duration": 213,
    "start_time": "2025-01-07T02:44:05.477Z"
   },
   {
    "duration": 273,
    "start_time": "2025-01-07T02:44:05.692Z"
   },
   {
    "duration": 30,
    "start_time": "2025-01-07T02:44:05.967Z"
   },
   {
    "duration": 10,
    "start_time": "2025-01-07T02:44:05.999Z"
   },
   {
    "duration": 97,
    "start_time": "2025-01-07T02:44:06.011Z"
   },
   {
    "duration": 427,
    "start_time": "2025-01-07T02:44:06.110Z"
   },
   {
    "duration": 45,
    "start_time": "2025-01-07T02:44:06.539Z"
   },
   {
    "duration": 215,
    "start_time": "2025-01-07T02:44:06.586Z"
   },
   {
    "duration": 14,
    "start_time": "2025-01-07T02:44:06.803Z"
   },
   {
    "duration": 192,
    "start_time": "2025-01-07T02:44:06.819Z"
   },
   {
    "duration": 3,
    "start_time": "2025-01-07T02:44:07.013Z"
   },
   {
    "duration": 12,
    "start_time": "2025-01-07T02:44:07.031Z"
   },
   {
    "duration": 7,
    "start_time": "2025-01-07T02:44:07.044Z"
   },
   {
    "duration": 185,
    "start_time": "2025-01-07T02:44:07.054Z"
   },
   {
    "duration": 14,
    "start_time": "2025-01-07T02:44:07.244Z"
   },
   {
    "duration": 5,
    "start_time": "2025-01-07T02:44:07.263Z"
   },
   {
    "duration": 14,
    "start_time": "2025-01-07T02:44:07.272Z"
   },
   {
    "duration": 146,
    "start_time": "2025-01-07T02:44:07.288Z"
   },
   {
    "duration": 299,
    "start_time": "2025-01-07T02:44:07.451Z"
   },
   {
    "duration": 150,
    "start_time": "2025-01-07T02:44:07.752Z"
   },
   {
    "duration": 4,
    "start_time": "2025-01-07T02:44:07.904Z"
   },
   {
    "duration": 6,
    "start_time": "2025-01-07T02:44:07.910Z"
   },
   {
    "duration": 9,
    "start_time": "2025-01-07T02:52:05.046Z"
   },
   {
    "duration": 158,
    "start_time": "2025-01-07T02:52:14.374Z"
   },
   {
    "duration": 858,
    "start_time": "2025-01-07T02:52:21.773Z"
   },
   {
    "duration": 430,
    "start_time": "2025-01-07T02:52:22.633Z"
   },
   {
    "duration": 11,
    "start_time": "2025-01-07T02:52:23.064Z"
   },
   {
    "duration": 8,
    "start_time": "2025-01-07T02:52:23.077Z"
   },
   {
    "duration": 4,
    "start_time": "2025-01-07T02:52:23.088Z"
   },
   {
    "duration": 4,
    "start_time": "2025-01-07T02:52:23.093Z"
   },
   {
    "duration": 34,
    "start_time": "2025-01-07T02:52:23.098Z"
   },
   {
    "duration": 10,
    "start_time": "2025-01-07T02:52:23.134Z"
   },
   {
    "duration": 12,
    "start_time": "2025-01-07T02:52:23.146Z"
   },
   {
    "duration": 11,
    "start_time": "2025-01-07T02:52:23.159Z"
   },
   {
    "duration": 10,
    "start_time": "2025-01-07T02:52:23.172Z"
   },
   {
    "duration": 8,
    "start_time": "2025-01-07T02:52:23.183Z"
   },
   {
    "duration": 73,
    "start_time": "2025-01-07T02:52:23.194Z"
   },
   {
    "duration": 201,
    "start_time": "2025-01-07T02:52:23.270Z"
   },
   {
    "duration": 117,
    "start_time": "2025-01-07T02:52:23.472Z"
   },
   {
    "duration": 335,
    "start_time": "2025-01-07T02:52:23.591Z"
   },
   {
    "duration": 6,
    "start_time": "2025-01-07T02:52:23.928Z"
   },
   {
    "duration": 176,
    "start_time": "2025-01-07T02:52:23.936Z"
   },
   {
    "duration": 165,
    "start_time": "2025-01-07T02:52:24.113Z"
   },
   {
    "duration": 225,
    "start_time": "2025-01-07T02:52:24.279Z"
   },
   {
    "duration": 30,
    "start_time": "2025-01-07T02:52:24.507Z"
   },
   {
    "duration": 11,
    "start_time": "2025-01-07T02:52:24.539Z"
   },
   {
    "duration": 85,
    "start_time": "2025-01-07T02:52:24.553Z"
   },
   {
    "duration": 339,
    "start_time": "2025-01-07T02:52:24.639Z"
   },
   {
    "duration": 28,
    "start_time": "2025-01-07T02:52:24.980Z"
   },
   {
    "duration": 191,
    "start_time": "2025-01-07T02:52:25.010Z"
   },
   {
    "duration": 13,
    "start_time": "2025-01-07T02:52:25.202Z"
   },
   {
    "duration": 181,
    "start_time": "2025-01-07T02:52:25.217Z"
   },
   {
    "duration": 3,
    "start_time": "2025-01-07T02:52:25.400Z"
   },
   {
    "duration": 10,
    "start_time": "2025-01-07T02:52:25.405Z"
   },
   {
    "duration": 6,
    "start_time": "2025-01-07T02:52:25.431Z"
   },
   {
    "duration": 159,
    "start_time": "2025-01-07T02:52:25.439Z"
   },
   {
    "duration": 10,
    "start_time": "2025-01-07T02:52:25.600Z"
   },
   {
    "duration": 3,
    "start_time": "2025-01-07T02:52:25.612Z"
   },
   {
    "duration": 15,
    "start_time": "2025-01-07T02:52:25.617Z"
   },
   {
    "duration": 133,
    "start_time": "2025-01-07T02:52:25.634Z"
   },
   {
    "duration": 205,
    "start_time": "2025-01-07T02:52:25.769Z"
   },
   {
    "duration": 123,
    "start_time": "2025-01-07T02:52:25.976Z"
   },
   {
    "duration": 4,
    "start_time": "2025-01-07T02:52:26.101Z"
   },
   {
    "duration": 846,
    "start_time": "2025-01-07T02:53:27.492Z"
   },
   {
    "duration": 449,
    "start_time": "2025-01-07T02:53:28.341Z"
   },
   {
    "duration": 10,
    "start_time": "2025-01-07T02:53:28.792Z"
   },
   {
    "duration": 9,
    "start_time": "2025-01-07T02:53:28.804Z"
   },
   {
    "duration": 19,
    "start_time": "2025-01-07T02:53:28.816Z"
   },
   {
    "duration": 4,
    "start_time": "2025-01-07T02:53:28.837Z"
   },
   {
    "duration": 6,
    "start_time": "2025-01-07T02:53:28.843Z"
   },
   {
    "duration": 9,
    "start_time": "2025-01-07T02:53:28.851Z"
   },
   {
    "duration": 12,
    "start_time": "2025-01-07T02:53:28.862Z"
   },
   {
    "duration": 10,
    "start_time": "2025-01-07T02:53:28.876Z"
   },
   {
    "duration": 45,
    "start_time": "2025-01-07T02:53:28.888Z"
   },
   {
    "duration": 7,
    "start_time": "2025-01-07T02:53:28.936Z"
   },
   {
    "duration": 38,
    "start_time": "2025-01-07T02:53:28.945Z"
   },
   {
    "duration": 208,
    "start_time": "2025-01-07T02:53:28.987Z"
   },
   {
    "duration": 117,
    "start_time": "2025-01-07T02:53:29.196Z"
   },
   {
    "duration": 326,
    "start_time": "2025-01-07T02:53:29.315Z"
   },
   {
    "duration": 5,
    "start_time": "2025-01-07T02:53:29.643Z"
   },
   {
    "duration": 187,
    "start_time": "2025-01-07T02:53:29.649Z"
   },
   {
    "duration": 166,
    "start_time": "2025-01-07T02:53:29.837Z"
   },
   {
    "duration": 216,
    "start_time": "2025-01-07T02:53:30.005Z"
   },
   {
    "duration": 25,
    "start_time": "2025-01-07T02:53:30.231Z"
   },
   {
    "duration": 11,
    "start_time": "2025-01-07T02:53:30.258Z"
   },
   {
    "duration": 83,
    "start_time": "2025-01-07T02:53:30.270Z"
   },
   {
    "duration": 349,
    "start_time": "2025-01-07T02:53:30.355Z"
   },
   {
    "duration": 31,
    "start_time": "2025-01-07T02:53:30.705Z"
   },
   {
    "duration": 173,
    "start_time": "2025-01-07T02:53:30.738Z"
   },
   {
    "duration": 20,
    "start_time": "2025-01-07T02:53:30.913Z"
   },
   {
    "duration": 166,
    "start_time": "2025-01-07T02:53:30.934Z"
   },
   {
    "duration": 4,
    "start_time": "2025-01-07T02:53:31.102Z"
   },
   {
    "duration": 9,
    "start_time": "2025-01-07T02:53:31.108Z"
   },
   {
    "duration": 5,
    "start_time": "2025-01-07T02:53:31.130Z"
   },
   {
    "duration": 153,
    "start_time": "2025-01-07T02:53:31.136Z"
   },
   {
    "duration": 12,
    "start_time": "2025-01-07T02:53:31.291Z"
   },
   {
    "duration": 3,
    "start_time": "2025-01-07T02:53:31.306Z"
   },
   {
    "duration": 24,
    "start_time": "2025-01-07T02:53:31.311Z"
   },
   {
    "duration": 127,
    "start_time": "2025-01-07T02:53:31.337Z"
   },
   {
    "duration": 204,
    "start_time": "2025-01-07T02:53:31.466Z"
   },
   {
    "duration": 124,
    "start_time": "2025-01-07T02:53:31.672Z"
   },
   {
    "duration": 4,
    "start_time": "2025-01-07T02:53:31.798Z"
   },
   {
    "duration": 948,
    "start_time": "2025-01-07T02:53:47.683Z"
   },
   {
    "duration": 438,
    "start_time": "2025-01-07T02:53:48.634Z"
   },
   {
    "duration": 9,
    "start_time": "2025-01-07T02:53:49.074Z"
   },
   {
    "duration": 9,
    "start_time": "2025-01-07T02:53:49.085Z"
   },
   {
    "duration": 4,
    "start_time": "2025-01-07T02:53:49.097Z"
   },
   {
    "duration": 4,
    "start_time": "2025-01-07T02:53:49.102Z"
   },
   {
    "duration": 7,
    "start_time": "2025-01-07T02:53:49.130Z"
   },
   {
    "duration": 10,
    "start_time": "2025-01-07T02:53:49.139Z"
   },
   {
    "duration": 13,
    "start_time": "2025-01-07T02:53:49.150Z"
   },
   {
    "duration": 11,
    "start_time": "2025-01-07T02:53:49.165Z"
   },
   {
    "duration": 9,
    "start_time": "2025-01-07T02:53:49.177Z"
   },
   {
    "duration": 7,
    "start_time": "2025-01-07T02:53:49.187Z"
   },
   {
    "duration": 73,
    "start_time": "2025-01-07T02:53:49.195Z"
   },
   {
    "duration": 189,
    "start_time": "2025-01-07T02:53:49.272Z"
   },
   {
    "duration": 114,
    "start_time": "2025-01-07T02:53:49.465Z"
   },
   {
    "duration": 337,
    "start_time": "2025-01-07T02:53:49.580Z"
   },
   {
    "duration": 11,
    "start_time": "2025-01-07T02:53:49.919Z"
   },
   {
    "duration": 180,
    "start_time": "2025-01-07T02:53:49.932Z"
   },
   {
    "duration": 165,
    "start_time": "2025-01-07T02:53:50.114Z"
   },
   {
    "duration": 222,
    "start_time": "2025-01-07T02:53:50.281Z"
   },
   {
    "duration": 32,
    "start_time": "2025-01-07T02:53:50.504Z"
   },
   {
    "duration": 10,
    "start_time": "2025-01-07T02:53:50.538Z"
   },
   {
    "duration": 88,
    "start_time": "2025-01-07T02:53:50.550Z"
   },
   {
    "duration": 368,
    "start_time": "2025-01-07T02:53:50.640Z"
   },
   {
    "duration": 32,
    "start_time": "2025-01-07T02:53:51.009Z"
   },
   {
    "duration": 176,
    "start_time": "2025-01-07T02:53:51.042Z"
   },
   {
    "duration": 16,
    "start_time": "2025-01-07T02:53:51.220Z"
   },
   {
    "duration": 166,
    "start_time": "2025-01-07T02:53:51.238Z"
   },
   {
    "duration": 4,
    "start_time": "2025-01-07T02:53:51.405Z"
   },
   {
    "duration": 20,
    "start_time": "2025-01-07T02:53:51.410Z"
   },
   {
    "duration": 4,
    "start_time": "2025-01-07T02:53:51.433Z"
   },
   {
    "duration": 163,
    "start_time": "2025-01-07T02:53:51.439Z"
   },
   {
    "duration": 10,
    "start_time": "2025-01-07T02:53:51.605Z"
   },
   {
    "duration": 4,
    "start_time": "2025-01-07T02:53:51.616Z"
   },
   {
    "duration": 7,
    "start_time": "2025-01-07T02:53:51.630Z"
   },
   {
    "duration": 143,
    "start_time": "2025-01-07T02:53:51.638Z"
   },
   {
    "duration": 230,
    "start_time": "2025-01-07T02:53:51.782Z"
   },
   {
    "duration": 129,
    "start_time": "2025-01-07T02:53:52.013Z"
   },
   {
    "duration": 4,
    "start_time": "2025-01-07T02:53:52.143Z"
   },
   {
    "duration": 5,
    "start_time": "2025-01-07T02:56:39.698Z"
   },
   {
    "duration": 134,
    "start_time": "2025-01-07T02:56:52.635Z"
   },
   {
    "duration": 18,
    "start_time": "2025-01-07T02:59:56.631Z"
   },
   {
    "duration": 21,
    "start_time": "2025-01-07T03:10:34.574Z"
   },
   {
    "duration": 295,
    "start_time": "2025-01-07T03:11:19.694Z"
   },
   {
    "duration": 8,
    "start_time": "2025-01-07T03:12:21.623Z"
   },
   {
    "duration": 11,
    "start_time": "2025-01-07T03:12:54.623Z"
   },
   {
    "duration": 12,
    "start_time": "2025-01-07T03:15:32.533Z"
   },
   {
    "duration": 9,
    "start_time": "2025-01-07T03:20:09.470Z"
   },
   {
    "duration": 7,
    "start_time": "2025-01-07T03:20:21.215Z"
   },
   {
    "duration": 435,
    "start_time": "2025-01-07T03:22:54.760Z"
   },
   {
    "duration": 8,
    "start_time": "2025-01-07T03:23:54.281Z"
   },
   {
    "duration": 15,
    "start_time": "2025-01-07T03:25:23.058Z"
   },
   {
    "duration": 18,
    "start_time": "2025-01-07T03:25:30.121Z"
   },
   {
    "duration": 16,
    "start_time": "2025-01-07T03:25:52.634Z"
   },
   {
    "duration": 44,
    "start_time": "2025-01-07T03:25:57.866Z"
   },
   {
    "duration": 41,
    "start_time": "2025-01-07T03:26:43.818Z"
   },
   {
    "duration": 50,
    "start_time": "2025-01-07T03:27:15.532Z"
   },
   {
    "duration": 40,
    "start_time": "2025-01-07T03:27:17.763Z"
   },
   {
    "duration": 7,
    "start_time": "2025-01-07T03:28:55.972Z"
   },
   {
    "duration": 814,
    "start_time": "2025-01-07T03:30:07.318Z"
   },
   {
    "duration": 383,
    "start_time": "2025-01-07T03:30:08.137Z"
   },
   {
    "duration": 10,
    "start_time": "2025-01-07T03:30:08.522Z"
   },
   {
    "duration": 11,
    "start_time": "2025-01-07T03:30:08.534Z"
   },
   {
    "duration": 4,
    "start_time": "2025-01-07T03:30:08.547Z"
   },
   {
    "duration": 4,
    "start_time": "2025-01-07T03:30:08.553Z"
   },
   {
    "duration": 6,
    "start_time": "2025-01-07T03:30:08.559Z"
   },
   {
    "duration": 9,
    "start_time": "2025-01-07T03:30:08.567Z"
   },
   {
    "duration": 54,
    "start_time": "2025-01-07T03:30:08.578Z"
   },
   {
    "duration": 10,
    "start_time": "2025-01-07T03:30:08.634Z"
   },
   {
    "duration": 8,
    "start_time": "2025-01-07T03:30:08.647Z"
   },
   {
    "duration": 6,
    "start_time": "2025-01-07T03:30:08.656Z"
   },
   {
    "duration": 38,
    "start_time": "2025-01-07T03:30:08.664Z"
   },
   {
    "duration": 163,
    "start_time": "2025-01-07T03:30:08.731Z"
   },
   {
    "duration": 114,
    "start_time": "2025-01-07T03:30:08.896Z"
   },
   {
    "duration": 321,
    "start_time": "2025-01-07T03:30:09.012Z"
   },
   {
    "duration": 7,
    "start_time": "2025-01-07T03:30:09.334Z"
   },
   {
    "duration": 169,
    "start_time": "2025-01-07T03:30:09.343Z"
   },
   {
    "duration": 166,
    "start_time": "2025-01-07T03:30:09.513Z"
   },
   {
    "duration": 221,
    "start_time": "2025-01-07T03:30:09.680Z"
   },
   {
    "duration": 29,
    "start_time": "2025-01-07T03:30:09.903Z"
   },
   {
    "duration": 10,
    "start_time": "2025-01-07T03:30:09.934Z"
   },
   {
    "duration": 69,
    "start_time": "2025-01-07T03:30:09.946Z"
   },
   {
    "duration": 422,
    "start_time": "2025-01-07T03:30:10.016Z"
   },
   {
    "duration": 28,
    "start_time": "2025-01-07T03:30:10.440Z"
   },
   {
    "duration": 202,
    "start_time": "2025-01-07T03:30:10.469Z"
   },
   {
    "duration": 13,
    "start_time": "2025-01-07T03:30:10.673Z"
   },
   {
    "duration": 161,
    "start_time": "2025-01-07T03:30:10.688Z"
   },
   {
    "duration": 3,
    "start_time": "2025-01-07T03:30:10.852Z"
   },
   {
    "duration": 9,
    "start_time": "2025-01-07T03:30:10.857Z"
   },
   {
    "duration": 4,
    "start_time": "2025-01-07T03:30:10.867Z"
   },
   {
    "duration": 168,
    "start_time": "2025-01-07T03:30:10.873Z"
   },
   {
    "duration": 10,
    "start_time": "2025-01-07T03:30:11.043Z"
   },
   {
    "duration": 3,
    "start_time": "2025-01-07T03:30:11.055Z"
   },
   {
    "duration": 5,
    "start_time": "2025-01-07T03:30:11.060Z"
   },
   {
    "duration": 147,
    "start_time": "2025-01-07T03:30:11.067Z"
   },
   {
    "duration": 221,
    "start_time": "2025-01-07T03:30:11.216Z"
   },
   {
    "duration": 119,
    "start_time": "2025-01-07T03:30:11.439Z"
   },
   {
    "duration": 22,
    "start_time": "2025-01-07T03:30:11.560Z"
   },
   {
    "duration": 8,
    "start_time": "2025-01-07T03:32:57.211Z"
   },
   {
    "duration": 11,
    "start_time": "2025-01-07T03:35:55.821Z"
   },
   {
    "duration": 10,
    "start_time": "2025-01-07T03:36:37.688Z"
   },
   {
    "duration": 10,
    "start_time": "2025-01-07T03:36:52.831Z"
   },
   {
    "duration": 10,
    "start_time": "2025-01-07T03:50:48.290Z"
   },
   {
    "duration": 159,
    "start_time": "2025-01-07T03:50:58.843Z"
   },
   {
    "duration": 213,
    "start_time": "2025-01-07T03:53:03.806Z"
   },
   {
    "duration": 14,
    "start_time": "2025-01-07T03:59:20.078Z"
   },
   {
    "duration": 6,
    "start_time": "2025-01-07T03:59:54.106Z"
   },
   {
    "duration": 9,
    "start_time": "2025-01-07T04:00:04.858Z"
   },
   {
    "duration": 23,
    "start_time": "2025-01-07T04:01:27.734Z"
   },
   {
    "duration": 7,
    "start_time": "2025-01-07T04:01:51.595Z"
   },
   {
    "duration": 19,
    "start_time": "2025-01-07T04:01:51.976Z"
   },
   {
    "duration": 18,
    "start_time": "2025-01-07T04:02:14.830Z"
   },
   {
    "duration": 2508,
    "start_time": "2025-01-07T05:14:39.569Z"
   },
   {
    "duration": 421,
    "start_time": "2025-01-07T05:14:42.079Z"
   },
   {
    "duration": 10,
    "start_time": "2025-01-07T05:14:42.501Z"
   },
   {
    "duration": 18,
    "start_time": "2025-01-07T05:14:42.513Z"
   },
   {
    "duration": 4,
    "start_time": "2025-01-07T05:14:42.533Z"
   },
   {
    "duration": 4,
    "start_time": "2025-01-07T05:14:42.538Z"
   },
   {
    "duration": 7,
    "start_time": "2025-01-07T05:14:42.543Z"
   },
   {
    "duration": 9,
    "start_time": "2025-01-07T05:14:42.551Z"
   },
   {
    "duration": 11,
    "start_time": "2025-01-07T05:14:42.562Z"
   },
   {
    "duration": 10,
    "start_time": "2025-01-07T05:14:42.576Z"
   },
   {
    "duration": 44,
    "start_time": "2025-01-07T05:14:42.588Z"
   },
   {
    "duration": 7,
    "start_time": "2025-01-07T05:14:42.634Z"
   },
   {
    "duration": 37,
    "start_time": "2025-01-07T05:14:42.643Z"
   },
   {
    "duration": 177,
    "start_time": "2025-01-07T05:14:42.682Z"
   },
   {
    "duration": 116,
    "start_time": "2025-01-07T05:14:42.861Z"
   },
   {
    "duration": 333,
    "start_time": "2025-01-07T05:14:42.979Z"
   },
   {
    "duration": 5,
    "start_time": "2025-01-07T05:14:43.314Z"
   },
   {
    "duration": 164,
    "start_time": "2025-01-07T05:14:43.320Z"
   },
   {
    "duration": 166,
    "start_time": "2025-01-07T05:14:43.485Z"
   },
   {
    "duration": 170,
    "start_time": "2025-01-07T05:14:43.652Z"
   },
   {
    "duration": 27,
    "start_time": "2025-01-07T05:14:43.824Z"
   },
   {
    "duration": 11,
    "start_time": "2025-01-07T05:14:43.853Z"
   },
   {
    "duration": 93,
    "start_time": "2025-01-07T05:14:43.865Z"
   },
   {
    "duration": 364,
    "start_time": "2025-01-07T05:14:43.960Z"
   },
   {
    "duration": 32,
    "start_time": "2025-01-07T05:14:44.325Z"
   },
   {
    "duration": 175,
    "start_time": "2025-01-07T05:14:44.358Z"
   },
   {
    "duration": 12,
    "start_time": "2025-01-07T05:14:44.535Z"
   },
   {
    "duration": 165,
    "start_time": "2025-01-07T05:14:44.551Z"
   },
   {
    "duration": 3,
    "start_time": "2025-01-07T05:14:44.718Z"
   },
   {
    "duration": 14,
    "start_time": "2025-01-07T05:14:44.723Z"
   },
   {
    "duration": 4,
    "start_time": "2025-01-07T05:14:44.738Z"
   },
   {
    "duration": 157,
    "start_time": "2025-01-07T05:14:44.744Z"
   },
   {
    "duration": 11,
    "start_time": "2025-01-07T05:14:44.903Z"
   },
   {
    "duration": 3,
    "start_time": "2025-01-07T05:14:44.915Z"
   },
   {
    "duration": 6,
    "start_time": "2025-01-07T05:14:44.931Z"
   },
   {
    "duration": 178,
    "start_time": "2025-01-07T05:14:44.939Z"
   },
   {
    "duration": 206,
    "start_time": "2025-01-07T05:14:45.119Z"
   },
   {
    "duration": 119,
    "start_time": "2025-01-07T05:14:45.326Z"
   },
   {
    "duration": 19,
    "start_time": "2025-01-07T05:14:45.447Z"
   },
   {
    "duration": 7,
    "start_time": "2025-01-07T05:14:45.468Z"
   },
   {
    "duration": 8,
    "start_time": "2025-01-07T05:14:45.477Z"
   },
   {
    "duration": 182,
    "start_time": "2025-01-07T05:14:45.487Z"
   },
   {
    "duration": 5,
    "start_time": "2025-01-07T05:17:52.691Z"
   },
   {
    "duration": 219,
    "start_time": "2025-01-07T05:18:21.010Z"
   },
   {
    "duration": 4,
    "start_time": "2025-01-07T05:18:28.920Z"
   },
   {
    "duration": 449,
    "start_time": "2025-01-07T05:18:43.275Z"
   },
   {
    "duration": 4,
    "start_time": "2025-01-07T05:18:56.035Z"
   },
   {
    "duration": 528,
    "start_time": "2025-01-07T05:27:59.642Z"
   },
   {
    "duration": 28,
    "start_time": "2025-01-07T05:28:14.044Z"
   },
   {
    "duration": 35,
    "start_time": "2025-01-07T05:28:28.485Z"
   },
   {
    "duration": 17,
    "start_time": "2025-01-07T05:28:41.275Z"
   },
   {
    "duration": 15,
    "start_time": "2025-01-07T05:29:56.094Z"
   },
   {
    "duration": 948,
    "start_time": "2025-01-07T05:34:12.128Z"
   },
   {
    "duration": 452,
    "start_time": "2025-01-07T05:36:27.752Z"
   },
   {
    "duration": 7,
    "start_time": "2025-01-07T05:36:31.136Z"
   },
   {
    "duration": 206,
    "start_time": "2025-01-07T05:37:04.218Z"
   },
   {
    "duration": 9,
    "start_time": "2025-01-07T05:37:21.082Z"
   }
  ],
  "kernelspec": {
   "display_name": "Python 3 (TripleTen)",
   "language": "python",
   "name": "tripleten"
  },
  "language_info": {
   "codemirror_mode": {
    "name": "ipython",
    "version": 3
   },
   "file_extension": ".py",
   "mimetype": "text/x-python",
   "name": "python",
   "nbconvert_exporter": "python",
   "pygments_lexer": "ipython3",
   "version": "3.12.7"
  },
  "toc": {
   "base_numbering": 1,
   "nav_menu": {},
   "number_sections": true,
   "sideBar": true,
   "skip_h1_title": true,
   "title_cell": "Table of Contents",
   "title_sidebar": "Contents",
   "toc_cell": false,
   "toc_position": {
    "height": "calc(100% - 180px)",
    "left": "10px",
    "top": "150px",
    "width": "379.188px"
   },
   "toc_section_display": true,
   "toc_window_display": true
  }
 },
 "nbformat": 4,
 "nbformat_minor": 2
}
